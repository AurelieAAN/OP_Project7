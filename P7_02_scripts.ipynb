{
 "cells": [
  {
   "cell_type": "markdown",
   "metadata": {},
   "source": [
    "# Projet 7 : Détecter les bads buzz grâce au Deep Learning - Air Paradis"
   ]
  },
  {
   "cell_type": "markdown",
   "metadata": {},
   "source": [
    "- Problématique : Air Paradis a besoin de détecter les mauvais tweet afin de pouvoir agir rapidement.\n",
    "\n",
    "Il faut ainsi développer un produit IA en utilisant 3 approches : \n",
    "- approche “API sur étagère” en utilisant l’API du service cognitif proposé par Microsoft Azure pour l’analyse de sentiment sur un échantillon des données\n",
    "- approche “Modèle sur mesure simple” en utilisant le Concepteur / Designer d’un service Azure Machine Learning, interface graphique drag & drop, pour développer rapidement un modèle classique (ex : régression logistique) permettant de prédire le sentiment associé à un tweet.\n",
    "- approche “Modèle sur mesure avancé” en utilisant le service Azure Machine Learning pour développer un modèle basé sur des réseaux de neurones profonds pour prédire le sentiment associé à un tweet qui sera présenté à Air Paradis"
   ]
  },
  {
   "cell_type": "markdown",
   "metadata": {},
   "source": [
    "Les données utilisées sont des données opensource provenant de ce lien : https://s3-eu-west-1.amazonaws.com/static.oc-static.com/prod/courses/files/AI+Engineer/Project+7%C2%A0-+D%C3%A9tectez+les+Bad+Buzz+gr%C3%A2ce+au+Deep+Learning/sentiment140.zip"
   ]
  },
  {
   "cell_type": "markdown",
   "metadata": {},
   "source": [
    "Import des bibliothèques"
   ]
  },
  {
   "cell_type": "code",
   "execution_count": 50,
   "metadata": {},
   "outputs": [
    {
     "name": "stdout",
     "output_type": "stream",
     "text": [
      "The pycodestyle_magic extension is already loaded. To reload it, use:\n",
      "  %reload_ext pycodestyle_magic\n"
     ]
    }
   ],
   "source": [
    "import random\n",
    "import os\n",
    "# notre package de fonctionnalités\n",
    "from Package import Scripts_Analyse01 as pk\n",
    "from Package import Scripts_AnalyseMulti01 as pk_multi\n",
    "from Package import Scripts_AnalyseMulti02_Unsupervised as pk_multi_unsp\n",
    "from Package import Scripts_AnalyseMulti02_Supervised as pk_multi_sup\n",
    "from IPython.core.display import display, HTML\n",
    "from plotly.offline import download_plotlyjs, init_notebook_mode, plot, iplot\n",
    "import pandas as pd\n",
    "import numpy as np\n",
    "import missingno\n",
    "import matplotlib.pyplot as plt\n",
    "import matplotlib.patches as mpatches\n",
    "from umap import UMAP\n",
    "from scipy.stats import pearsonr\n",
    "import seaborn as sns\n",
    "import plotly.express as px\n",
    "import plotly.graph_objects as go\n",
    "from yellowbrick.features import ParallelCoordinates\n",
    "from plotly.graph_objects import Layout\n",
    "from sklearn.decomposition import PCA\n",
    "from sklearn.preprocessing import StandardScaler, MinMaxScaler, scale\n",
    "from sklearn.datasets import make_blobs\n",
    "from yellowbrick.cluster import KElbowVisualizer\n",
    "from yellowbrick.features import PCA as PCA_yellow\n",
    "from yellowbrick.style import set_palette\n",
    "from sklearn import metrics\n",
    "from gensim.models.ldamodel import LdaModel\n",
    "from  sklearn.feature_extraction.text  import CountVectorizer \n",
    "from sklearn.decomposition import SparsePCA\n",
    "import gc\n",
    "import time\n",
    "from contextlib import contextmanager\n",
    "from sklearn import cluster\n",
    "import warnings\n",
    "from dotenv import load_dotenv\n",
    "import re\n",
    "# Gensim\n",
    "import gensim\n",
    "import gensim.corpora as corpora\n",
    "from gensim.models import CoherenceModel\n",
    "from wordcloud import WordCloud\n",
    "from unidecode import unidecode\n",
    "from sklearn import metrics\n",
    "from sklearn import manifold, decomposition\n",
    "# Get topic weights and dominant topics ------------\n",
    "from sklearn.manifold import TSNE\n",
    "from bokeh.plotting import figure, output_file, show\n",
    "from bokeh.models import Label\n",
    "from bokeh.io import output_notebook\n",
    "import matplotlib.colors as mcolors\n",
    "import string\n",
    "from spacy.lang.en.stop_words import STOP_WORDS\n",
    "from spacy.lang.en import English\n",
    "from nltk.stem.snowball import SnowballStemmer\n",
    "from spacy.language import Language\n",
    "import spacy\n",
    "from spacymoji import Emoji\n",
    "warnings.simplefilter(action='ignore', category=FutureWarning)\n",
    "%load_ext pycodestyle_magic\n"
   ]
  },
  {
   "cell_type": "code",
   "execution_count": 51,
   "metadata": {},
   "outputs": [
    {
     "data": {
      "application/vnd.jupyter.widget-view+json": {
       "model_id": "1b83b8340431400e807e2464a93b682f",
       "version_major": 2,
       "version_minor": 0
      },
      "text/plain": [
       "0it [00:01, ?it/s]"
      ]
     },
     "metadata": {},
     "output_type": "display_data"
    }
   ],
   "source": [
    "from tqdm import tqdm,notebook\n",
    "notebook.tqdm().pandas()"
   ]
  },
  {
   "cell_type": "code",
   "execution_count": 52,
   "metadata": {},
   "outputs": [
    {
     "name": "stderr",
     "output_type": "stream",
     "text": [
      "Python-dotenv could not parse statement starting at line 1\n"
     ]
    },
    {
     "data": {
      "text/plain": [
       "True"
      ]
     },
     "execution_count": 52,
     "metadata": {},
     "output_type": "execute_result"
    }
   ],
   "source": [
    "load_dotenv()"
   ]
  },
  {
   "cell_type": "markdown",
   "metadata": {},
   "source": [
    "## Collecte des données"
   ]
  },
  {
   "cell_type": "markdown",
   "metadata": {},
   "source": [
    "### Import des données"
   ]
  },
  {
   "cell_type": "code",
   "execution_count": 4,
   "metadata": {},
   "outputs": [],
   "source": [
    "df = pd.read_csv('input/base.csv', encoding='latin-1', header=None)"
   ]
  },
  {
   "cell_type": "code",
   "execution_count": 5,
   "metadata": {},
   "outputs": [
    {
     "data": {
      "text/plain": [
       "(1600000, 6)"
      ]
     },
     "execution_count": 5,
     "metadata": {},
     "output_type": "execute_result"
    }
   ],
   "source": [
    "df.shape"
   ]
  },
  {
   "cell_type": "code",
   "execution_count": null,
   "metadata": {},
   "outputs": [],
   "source": [
    "##########GRAPH TARGET"
   ]
  },
  {
   "cell_type": "code",
   "execution_count": 1,
   "metadata": {},
   "outputs": [],
   "source": [
    "########### wordcloud par classe"
   ]
  },
  {
   "cell_type": "code",
   "execution_count": null,
   "metadata": {},
   "outputs": [],
   "source": []
  },
  {
   "cell_type": "code",
   "execution_count": null,
   "metadata": {},
   "outputs": [],
   "source": []
  },
  {
   "cell_type": "code",
   "execution_count": null,
   "metadata": {},
   "outputs": [],
   "source": []
  },
  {
   "cell_type": "code",
   "execution_count": 6,
   "metadata": {},
   "outputs": [],
   "source": [
    "df = df.sample(100)"
   ]
  },
  {
   "cell_type": "code",
   "execution_count": 7,
   "metadata": {},
   "outputs": [
    {
     "data": {
      "text/html": [
       "<div>\n",
       "<style scoped>\n",
       "    .dataframe tbody tr th:only-of-type {\n",
       "        vertical-align: middle;\n",
       "    }\n",
       "\n",
       "    .dataframe tbody tr th {\n",
       "        vertical-align: top;\n",
       "    }\n",
       "\n",
       "    .dataframe thead th {\n",
       "        text-align: right;\n",
       "    }\n",
       "</style>\n",
       "<table border=\"1\" class=\"dataframe\">\n",
       "  <thead>\n",
       "    <tr style=\"text-align: right;\">\n",
       "      <th></th>\n",
       "      <th>0</th>\n",
       "      <th>1</th>\n",
       "      <th>2</th>\n",
       "      <th>3</th>\n",
       "      <th>4</th>\n",
       "      <th>5</th>\n",
       "    </tr>\n",
       "  </thead>\n",
       "  <tbody>\n",
       "    <tr>\n",
       "      <th>1515932</th>\n",
       "      <td>4</td>\n",
       "      <td>2175658611</td>\n",
       "      <td>Mon Jun 15 01:37:08 PDT 2009</td>\n",
       "      <td>NO_QUERY</td>\n",
       "      <td>yanti29</td>\n",
       "      <td>@missrain kenapa bu? apanya yang complicated? ...</td>\n",
       "    </tr>\n",
       "    <tr>\n",
       "      <th>1306183</th>\n",
       "      <td>4</td>\n",
       "      <td>2011567947</td>\n",
       "      <td>Tue Jun 02 19:13:22 PDT 2009</td>\n",
       "      <td>NO_QUERY</td>\n",
       "      <td>marshaambrosius</td>\n",
       "      <td>@kingbritt I love my dentist  hope all is well...</td>\n",
       "    </tr>\n",
       "  </tbody>\n",
       "</table>\n",
       "</div>"
      ],
      "text/plain": [
       "         0           1                             2         3  \\\n",
       "1515932  4  2175658611  Mon Jun 15 01:37:08 PDT 2009  NO_QUERY   \n",
       "1306183  4  2011567947  Tue Jun 02 19:13:22 PDT 2009  NO_QUERY   \n",
       "\n",
       "                       4                                                  5  \n",
       "1515932          yanti29  @missrain kenapa bu? apanya yang complicated? ...  \n",
       "1306183  marshaambrosius  @kingbritt I love my dentist  hope all is well...  "
      ]
     },
     "execution_count": 7,
     "metadata": {},
     "output_type": "execute_result"
    }
   ],
   "source": [
    "df.head(2)"
   ]
  },
  {
   "cell_type": "code",
   "execution_count": 8,
   "metadata": {},
   "outputs": [],
   "source": [
    "df = df.drop([3], axis=1)"
   ]
  },
  {
   "cell_type": "code",
   "execution_count": 9,
   "metadata": {},
   "outputs": [
    {
     "data": {
      "text/html": [
       "<div>\n",
       "<style scoped>\n",
       "    .dataframe tbody tr th:only-of-type {\n",
       "        vertical-align: middle;\n",
       "    }\n",
       "\n",
       "    .dataframe tbody tr th {\n",
       "        vertical-align: top;\n",
       "    }\n",
       "\n",
       "    .dataframe thead th {\n",
       "        text-align: right;\n",
       "    }\n",
       "</style>\n",
       "<table border=\"1\" class=\"dataframe\">\n",
       "  <thead>\n",
       "    <tr style=\"text-align: right;\">\n",
       "      <th></th>\n",
       "      <th>0</th>\n",
       "      <th>1</th>\n",
       "      <th>2</th>\n",
       "      <th>4</th>\n",
       "      <th>5</th>\n",
       "    </tr>\n",
       "  </thead>\n",
       "  <tbody>\n",
       "    <tr>\n",
       "      <th>1515932</th>\n",
       "      <td>4</td>\n",
       "      <td>2175658611</td>\n",
       "      <td>Mon Jun 15 01:37:08 PDT 2009</td>\n",
       "      <td>yanti29</td>\n",
       "      <td>@missrain kenapa bu? apanya yang complicated? ...</td>\n",
       "    </tr>\n",
       "    <tr>\n",
       "      <th>1306183</th>\n",
       "      <td>4</td>\n",
       "      <td>2011567947</td>\n",
       "      <td>Tue Jun 02 19:13:22 PDT 2009</td>\n",
       "      <td>marshaambrosius</td>\n",
       "      <td>@kingbritt I love my dentist  hope all is well...</td>\n",
       "    </tr>\n",
       "  </tbody>\n",
       "</table>\n",
       "</div>"
      ],
      "text/plain": [
       "         0           1                             2                4  \\\n",
       "1515932  4  2175658611  Mon Jun 15 01:37:08 PDT 2009          yanti29   \n",
       "1306183  4  2011567947  Tue Jun 02 19:13:22 PDT 2009  marshaambrosius   \n",
       "\n",
       "                                                         5  \n",
       "1515932  @missrain kenapa bu? apanya yang complicated? ...  \n",
       "1306183  @kingbritt I love my dentist  hope all is well...  "
      ]
     },
     "execution_count": 9,
     "metadata": {},
     "output_type": "execute_result"
    }
   ],
   "source": [
    "df.head(2)"
   ]
  },
  {
   "cell_type": "code",
   "execution_count": 10,
   "metadata": {},
   "outputs": [],
   "source": [
    "df.columns = [\"target\", \"identity\", \"date\", \"username\", \"tweet\"]"
   ]
  },
  {
   "cell_type": "code",
   "execution_count": 11,
   "metadata": {},
   "outputs": [
    {
     "data": {
      "text/html": [
       "<div>\n",
       "<style scoped>\n",
       "    .dataframe tbody tr th:only-of-type {\n",
       "        vertical-align: middle;\n",
       "    }\n",
       "\n",
       "    .dataframe tbody tr th {\n",
       "        vertical-align: top;\n",
       "    }\n",
       "\n",
       "    .dataframe thead th {\n",
       "        text-align: right;\n",
       "    }\n",
       "</style>\n",
       "<table border=\"1\" class=\"dataframe\">\n",
       "  <thead>\n",
       "    <tr style=\"text-align: right;\">\n",
       "      <th></th>\n",
       "      <th>target</th>\n",
       "      <th>identity</th>\n",
       "      <th>date</th>\n",
       "      <th>username</th>\n",
       "      <th>tweet</th>\n",
       "    </tr>\n",
       "  </thead>\n",
       "  <tbody>\n",
       "    <tr>\n",
       "      <th>1515932</th>\n",
       "      <td>4</td>\n",
       "      <td>2175658611</td>\n",
       "      <td>Mon Jun 15 01:37:08 PDT 2009</td>\n",
       "      <td>yanti29</td>\n",
       "      <td>@missrain kenapa bu? apanya yang complicated? ...</td>\n",
       "    </tr>\n",
       "    <tr>\n",
       "      <th>1306183</th>\n",
       "      <td>4</td>\n",
       "      <td>2011567947</td>\n",
       "      <td>Tue Jun 02 19:13:22 PDT 2009</td>\n",
       "      <td>marshaambrosius</td>\n",
       "      <td>@kingbritt I love my dentist  hope all is well...</td>\n",
       "    </tr>\n",
       "  </tbody>\n",
       "</table>\n",
       "</div>"
      ],
      "text/plain": [
       "         target    identity                          date         username  \\\n",
       "1515932       4  2175658611  Mon Jun 15 01:37:08 PDT 2009          yanti29   \n",
       "1306183       4  2011567947  Tue Jun 02 19:13:22 PDT 2009  marshaambrosius   \n",
       "\n",
       "                                                     tweet  \n",
       "1515932  @missrain kenapa bu? apanya yang complicated? ...  \n",
       "1306183  @kingbritt I love my dentist  hope all is well...  "
      ]
     },
     "execution_count": 11,
     "metadata": {},
     "output_type": "execute_result"
    }
   ],
   "source": [
    "df.head(2)"
   ]
  },
  {
   "cell_type": "markdown",
   "metadata": {},
   "source": [
    "### Export csv"
   ]
  },
  {
   "cell_type": "code",
   "execution_count": 68,
   "metadata": {},
   "outputs": [],
   "source": [
    "df.to_csv(\"output/sample.csv\")"
   ]
  },
  {
   "cell_type": "code",
   "execution_count": 16,
   "metadata": {},
   "outputs": [],
   "source": [
    "df = pd.read_csv(\"output/sample.csv\")"
   ]
  },
  {
   "cell_type": "code",
   "execution_count": 17,
   "metadata": {},
   "outputs": [],
   "source": [
    "del df[\"Unnamed: 0\"]"
   ]
  },
  {
   "cell_type": "markdown",
   "metadata": {},
   "source": [
    "## Construction de la base de données"
   ]
  },
  {
   "cell_type": "markdown",
   "metadata": {},
   "source": [
    "## Pré-traitement des données"
   ]
  },
  {
   "cell_type": "markdown",
   "metadata": {},
   "source": [
    "Vérification des doublons"
   ]
  },
  {
   "cell_type": "code",
   "execution_count": 14,
   "metadata": {},
   "outputs": [
    {
     "data": {
      "text/plain": [
       "0"
      ]
     },
     "execution_count": 14,
     "metadata": {},
     "output_type": "execute_result"
    }
   ],
   "source": [
    "sum(df.duplicated())"
   ]
  },
  {
   "cell_type": "code",
   "execution_count": 15,
   "metadata": {},
   "outputs": [
    {
     "data": {
      "text/html": [
       "<div>\n",
       "<style scoped>\n",
       "    .dataframe tbody tr th:only-of-type {\n",
       "        vertical-align: middle;\n",
       "    }\n",
       "\n",
       "    .dataframe tbody tr th {\n",
       "        vertical-align: top;\n",
       "    }\n",
       "\n",
       "    .dataframe thead th {\n",
       "        text-align: right;\n",
       "    }\n",
       "</style>\n",
       "<table border=\"1\" class=\"dataframe\">\n",
       "  <thead>\n",
       "    <tr style=\"text-align: right;\">\n",
       "      <th></th>\n",
       "      <th>target</th>\n",
       "      <th>identity</th>\n",
       "      <th>date</th>\n",
       "      <th>username</th>\n",
       "      <th>tweet</th>\n",
       "    </tr>\n",
       "  </thead>\n",
       "  <tbody>\n",
       "    <tr>\n",
       "      <th>0</th>\n",
       "      <td>0</td>\n",
       "      <td>2066896734</td>\n",
       "      <td>Sun Jun 07 11:22:24 PDT 2009</td>\n",
       "      <td>urfavnerd</td>\n",
       "      <td>Horrible cough  people gave me mean looks @ th...</td>\n",
       "    </tr>\n",
       "    <tr>\n",
       "      <th>1</th>\n",
       "      <td>0</td>\n",
       "      <td>2068940106</td>\n",
       "      <td>Sun Jun 07 14:58:47 PDT 2009</td>\n",
       "      <td>pmachenbach</td>\n",
       "      <td>i burnt my tounge</td>\n",
       "    </tr>\n",
       "  </tbody>\n",
       "</table>\n",
       "</div>"
      ],
      "text/plain": [
       "   target    identity                          date     username  \\\n",
       "0       0  2066896734  Sun Jun 07 11:22:24 PDT 2009    urfavnerd   \n",
       "1       0  2068940106  Sun Jun 07 14:58:47 PDT 2009  pmachenbach   \n",
       "\n",
       "                                               tweet  \n",
       "0  Horrible cough  people gave me mean looks @ th...  \n",
       "1                                 i burnt my tounge   "
      ]
     },
     "execution_count": 15,
     "metadata": {},
     "output_type": "execute_result"
    }
   ],
   "source": [
    "df.head(2)"
   ]
  },
  {
   "cell_type": "markdown",
   "metadata": {},
   "source": [
    "Vérification des données manquantes"
   ]
  },
  {
   "cell_type": "code",
   "execution_count": 16,
   "metadata": {},
   "outputs": [
    {
     "data": {
      "image/png": "[encoded data removed]",
      "text/plain": [
       "<Figure size 1008x576 with 1 Axes>"
      ]
     },
     "metadata": {},
     "output_type": "display_data"
    }
   ],
   "source": [
    "pk.matrix_vm(df, (14,8), (0.18, 0.56, 1))"
   ]
  },
  {
   "cell_type": "markdown",
   "metadata": {},
   "source": [
    "Aucune donnée manquante"
   ]
  },
  {
   "cell_type": "markdown",
   "metadata": {},
   "source": [
    "Passons au traitement du texte"
   ]
  },
  {
   "cell_type": "code",
   "execution_count": 17,
   "metadata": {},
   "outputs": [
    {
     "data": {
      "text/html": [
       "<div>\n",
       "<style scoped>\n",
       "    .dataframe tbody tr th:only-of-type {\n",
       "        vertical-align: middle;\n",
       "    }\n",
       "\n",
       "    .dataframe tbody tr th {\n",
       "        vertical-align: top;\n",
       "    }\n",
       "\n",
       "    .dataframe thead th {\n",
       "        text-align: right;\n",
       "    }\n",
       "</style>\n",
       "<table border=\"1\" class=\"dataframe\">\n",
       "  <thead>\n",
       "    <tr style=\"text-align: right;\">\n",
       "      <th></th>\n",
       "      <th>target</th>\n",
       "      <th>identity</th>\n",
       "      <th>date</th>\n",
       "      <th>username</th>\n",
       "      <th>tweet</th>\n",
       "    </tr>\n",
       "  </thead>\n",
       "  <tbody>\n",
       "    <tr>\n",
       "      <th>0</th>\n",
       "      <td>0</td>\n",
       "      <td>2066896734</td>\n",
       "      <td>Sun Jun 07 11:22:24 PDT 2009</td>\n",
       "      <td>urfavnerd</td>\n",
       "      <td>Horrible cough  people gave me mean looks @ th...</td>\n",
       "    </tr>\n",
       "    <tr>\n",
       "      <th>1</th>\n",
       "      <td>0</td>\n",
       "      <td>2068940106</td>\n",
       "      <td>Sun Jun 07 14:58:47 PDT 2009</td>\n",
       "      <td>pmachenbach</td>\n",
       "      <td>i burnt my tounge</td>\n",
       "    </tr>\n",
       "  </tbody>\n",
       "</table>\n",
       "</div>"
      ],
      "text/plain": [
       "   target    identity                          date     username  \\\n",
       "0       0  2066896734  Sun Jun 07 11:22:24 PDT 2009    urfavnerd   \n",
       "1       0  2068940106  Sun Jun 07 14:58:47 PDT 2009  pmachenbach   \n",
       "\n",
       "                                               tweet  \n",
       "0  Horrible cough  people gave me mean looks @ th...  \n",
       "1                                 i burnt my tounge   "
      ]
     },
     "execution_count": 17,
     "metadata": {},
     "output_type": "execute_result"
    }
   ],
   "source": [
    "df.head(2)"
   ]
  },
  {
   "cell_type": "markdown",
   "metadata": {},
   "source": [
    "Regardons le nombre de texte en fonction de la variable \"TARGET\"  qui représente la polarité du tweet (0 = negative, 2 = neutral et 4 = positive)"
   ]
  },
  {
   "cell_type": "markdown",
   "metadata": {},
   "source": [
    "Avant créons une variable avec les libellées pour améliorer la lisibilité"
   ]
  },
  {
   "cell_type": "code",
   "execution_count": 18,
   "metadata": {},
   "outputs": [
    {
     "data": {
      "application/vnd.jupyter.widget-view+json": {
       "model_id": "2f5688ecde8f450ea5baacedeaf12d63",
       "version_major": 2,
       "version_minor": 0
      },
      "text/plain": [
       "  0%|          | 0/100 [00:00<?, ?it/s]"
      ]
     },
     "metadata": {},
     "output_type": "display_data"
    }
   ],
   "source": [
    "def lib_polarite_target(target):\n",
    "    if target == 0:\n",
    "        return \"Negative\"\n",
    "    elif target == 2:\n",
    "        return \"Neutral\"\n",
    "    elif target == 4:\n",
    "        return \"Positive\"\n",
    "\n",
    "df[\"target_lib\"] = df[\"target\"].progress_apply(lambda x: lib_polarite_target(x))"
   ]
  },
  {
   "cell_type": "code",
   "execution_count": 19,
   "metadata": {},
   "outputs": [
    {
     "data": {
      "text/html": [
       "<div>\n",
       "<style scoped>\n",
       "    .dataframe tbody tr th:only-of-type {\n",
       "        vertical-align: middle;\n",
       "    }\n",
       "\n",
       "    .dataframe tbody tr th {\n",
       "        vertical-align: top;\n",
       "    }\n",
       "\n",
       "    .dataframe thead th {\n",
       "        text-align: right;\n",
       "    }\n",
       "</style>\n",
       "<table border=\"1\" class=\"dataframe\">\n",
       "  <thead>\n",
       "    <tr style=\"text-align: right;\">\n",
       "      <th></th>\n",
       "      <th>target</th>\n",
       "      <th>identity</th>\n",
       "      <th>date</th>\n",
       "      <th>username</th>\n",
       "      <th>tweet</th>\n",
       "      <th>target_lib</th>\n",
       "    </tr>\n",
       "  </thead>\n",
       "  <tbody>\n",
       "    <tr>\n",
       "      <th>0</th>\n",
       "      <td>0</td>\n",
       "      <td>2066896734</td>\n",
       "      <td>Sun Jun 07 11:22:24 PDT 2009</td>\n",
       "      <td>urfavnerd</td>\n",
       "      <td>Horrible cough  people gave me mean looks @ th...</td>\n",
       "      <td>Negative</td>\n",
       "    </tr>\n",
       "    <tr>\n",
       "      <th>1</th>\n",
       "      <td>0</td>\n",
       "      <td>2068940106</td>\n",
       "      <td>Sun Jun 07 14:58:47 PDT 2009</td>\n",
       "      <td>pmachenbach</td>\n",
       "      <td>i burnt my tounge</td>\n",
       "      <td>Negative</td>\n",
       "    </tr>\n",
       "    <tr>\n",
       "      <th>2</th>\n",
       "      <td>0</td>\n",
       "      <td>2326228644</td>\n",
       "      <td>Thu Jun 25 06:44:32 PDT 2009</td>\n",
       "      <td>rewardme</td>\n",
       "      <td>@candice216 aww, i sorry    Hope it improves Q...</td>\n",
       "      <td>Negative</td>\n",
       "    </tr>\n",
       "    <tr>\n",
       "      <th>3</th>\n",
       "      <td>4</td>\n",
       "      <td>1962748752</td>\n",
       "      <td>Fri May 29 11:35:21 PDT 2009</td>\n",
       "      <td>Darlene_Mae</td>\n",
       "      <td>http://twitpic.com/674el - &amp;quot;Mayhem&amp;quot; ...</td>\n",
       "      <td>Positive</td>\n",
       "    </tr>\n",
       "    <tr>\n",
       "      <th>4</th>\n",
       "      <td>0</td>\n",
       "      <td>1989795626</td>\n",
       "      <td>Mon Jun 01 02:50:17 PDT 2009</td>\n",
       "      <td>luanapalma</td>\n",
       "      <td>Byye, now I gotta go hehe</td>\n",
       "      <td>Negative</td>\n",
       "    </tr>\n",
       "  </tbody>\n",
       "</table>\n",
       "</div>"
      ],
      "text/plain": [
       "   target    identity                          date     username  \\\n",
       "0       0  2066896734  Sun Jun 07 11:22:24 PDT 2009    urfavnerd   \n",
       "1       0  2068940106  Sun Jun 07 14:58:47 PDT 2009  pmachenbach   \n",
       "2       0  2326228644  Thu Jun 25 06:44:32 PDT 2009     rewardme   \n",
       "3       4  1962748752  Fri May 29 11:35:21 PDT 2009  Darlene_Mae   \n",
       "4       0  1989795626  Mon Jun 01 02:50:17 PDT 2009   luanapalma   \n",
       "\n",
       "                                               tweet target_lib  \n",
       "0  Horrible cough  people gave me mean looks @ th...   Negative  \n",
       "1                                 i burnt my tounge    Negative  \n",
       "2  @candice216 aww, i sorry    Hope it improves Q...   Negative  \n",
       "3  http://twitpic.com/674el - &quot;Mayhem&quot; ...   Positive  \n",
       "4                         Byye, now I gotta go hehe    Negative  "
      ]
     },
     "execution_count": 19,
     "metadata": {},
     "output_type": "execute_result"
    }
   ],
   "source": [
    "df.head(5)"
   ]
  },
  {
   "cell_type": "markdown",
   "metadata": {},
   "source": [
    "Etudions notre variable"
   ]
  },
  {
   "cell_type": "code",
   "execution_count": 27,
   "metadata": {},
   "outputs": [],
   "source": [
    "def graph_circle(data, column, title):\n",
    "    \"\"\"\n",
    "    Graphique circulaire\n",
    "    Args:\n",
    "        data ([type]): données de la colonne à representer\n",
    "        column ([type]): nom de la colonne\n",
    "        title ([type]): titre du graphique\n",
    "    Exemple:\n",
    "    graph_circle(data[\"libelle_francais\"], \"libelle_francais\",\n",
    "                 \"Répartition des arbres en fonction de leur appellation\")\n",
    "    \"\"\"\n",
    "    t = pd.crosstab(data, \"freq\", normalize=True)\n",
    "    t = t.assign(column=t.index, freq=100 * t.freq)\n",
    "    plt.figure(figsize=(18, 8))\n",
    "    plt.pie(t.freq, labels=t.column,  autopct='%.0f%%')\n",
    "\n",
    "    plt.title(title)\n",
    "    my_circle = plt.Circle((0, 0), 0.4, color='white')\n",
    "    p = plt.gcf()\n",
    "    p.gca().add_artist(my_circle)"
   ]
  },
  {
   "cell_type": "code",
   "execution_count": 29,
   "metadata": {},
   "outputs": [
    {
     "data": {
      "image/png": "[encoded data removed]",
      "text/plain": [
       "<Figure size 1296x576 with 1 Axes>"
      ]
     },
     "metadata": {},
     "output_type": "display_data"
    }
   ],
   "source": [
    "graph_circle(df[\"target_lib\"], \"Target\",\n",
    "                 \"Répartition des tweets en fonction de la variable Target\")"
   ]
  },
  {
   "cell_type": "markdown",
   "metadata": {},
   "source": [
    "Nous observons que notre variable cible est à peu près équilibrée. En effet, nous retrouvons 57% de tweets avec un sentiment positif, contre 43% avec un sentiment negatif."
   ]
  },
  {
   "cell_type": "markdown",
   "metadata": {},
   "source": [
    "Traçons un wordcloud par classe même si le texte n'est pas encore nettoyé"
   ]
  },
  {
   "cell_type": "code",
   "execution_count": null,
   "metadata": {},
   "outputs": [],
   "source": []
  },
  {
   "cell_type": "code",
   "execution_count": null,
   "metadata": {},
   "outputs": [],
   "source": []
  },
  {
   "cell_type": "code",
   "execution_count": null,
   "metadata": {},
   "outputs": [],
   "source": []
  },
  {
   "cell_type": "code",
   "execution_count": null,
   "metadata": {},
   "outputs": [],
   "source": []
  },
  {
   "cell_type": "markdown",
   "metadata": {},
   "source": [
    "### Passons au nettoyage et à l'analyse de la variable \"tweet\""
   ]
  },
  {
   "cell_type": "code",
   "execution_count": 30,
   "metadata": {},
   "outputs": [
    {
     "data": {
      "text/html": [
       "<div>\n",
       "<style scoped>\n",
       "    .dataframe tbody tr th:only-of-type {\n",
       "        vertical-align: middle;\n",
       "    }\n",
       "\n",
       "    .dataframe tbody tr th {\n",
       "        vertical-align: top;\n",
       "    }\n",
       "\n",
       "    .dataframe thead th {\n",
       "        text-align: right;\n",
       "    }\n",
       "</style>\n",
       "<table border=\"1\" class=\"dataframe\">\n",
       "  <thead>\n",
       "    <tr style=\"text-align: right;\">\n",
       "      <th></th>\n",
       "      <th>target</th>\n",
       "      <th>identity</th>\n",
       "      <th>date</th>\n",
       "      <th>username</th>\n",
       "      <th>tweet</th>\n",
       "      <th>target_lib</th>\n",
       "    </tr>\n",
       "  </thead>\n",
       "  <tbody>\n",
       "    <tr>\n",
       "      <th>0</th>\n",
       "      <td>0</td>\n",
       "      <td>2066896734</td>\n",
       "      <td>Sun Jun 07 11:22:24 PDT 2009</td>\n",
       "      <td>urfavnerd</td>\n",
       "      <td>Horrible cough  people gave me mean looks @ th...</td>\n",
       "      <td>Negative</td>\n",
       "    </tr>\n",
       "    <tr>\n",
       "      <th>1</th>\n",
       "      <td>0</td>\n",
       "      <td>2068940106</td>\n",
       "      <td>Sun Jun 07 14:58:47 PDT 2009</td>\n",
       "      <td>pmachenbach</td>\n",
       "      <td>i burnt my tounge</td>\n",
       "      <td>Negative</td>\n",
       "    </tr>\n",
       "  </tbody>\n",
       "</table>\n",
       "</div>"
      ],
      "text/plain": [
       "   target    identity                          date     username  \\\n",
       "0       0  2066896734  Sun Jun 07 11:22:24 PDT 2009    urfavnerd   \n",
       "1       0  2068940106  Sun Jun 07 14:58:47 PDT 2009  pmachenbach   \n",
       "\n",
       "                                               tweet target_lib  \n",
       "0  Horrible cough  people gave me mean looks @ th...   Negative  \n",
       "1                                 i burnt my tounge    Negative  "
      ]
     },
     "execution_count": 30,
     "metadata": {},
     "output_type": "execute_result"
    }
   ],
   "source": [
    "df.head(2)"
   ]
  },
  {
   "cell_type": "code",
   "execution_count": 32,
   "metadata": {},
   "outputs": [
    {
     "data": {
      "text/plain": [
       "'Horrible cough  people gave me mean looks @ the movies and church'"
      ]
     },
     "execution_count": 32,
     "metadata": {},
     "output_type": "execute_result"
    }
   ],
   "source": [
    "df[\"tweet\"][0]"
   ]
  },
  {
   "cell_type": "markdown",
   "metadata": {},
   "source": [
    "Nous observons que des tweets mélangent majuscule et minuscule. Nous allons donc mettre le texte en minuscule. Notons aussi que nous observons un @. Il faudra donc supprimer la ponctuation."
   ]
  },
  {
   "cell_type": "markdown",
   "metadata": {},
   "source": [
    "Pour cela, nous allons utiliser spacy. Et créer un pipeline que nous complèterons au fur et à mesure afin d'avoir un texte nettoyé.\n",
    "Nous mettrons donc par la suite notre texte en minuscule et nous supprimerons la ponctuation."
   ]
  },
  {
   "cell_type": "markdown",
   "metadata": {},
   "source": [
    "Nous savons que dans les tweets, nous pouvons trouver : \n",
    "- des emoticônes et des emojicônes\n",
    "- des mentions (ex : @toto)\n",
    "- des hashtags (ex #toureiffel)\n",
    "- des reponses directes à d'autres tweets, qui seront notées avec \"RE\"\n",
    "- des emails\n",
    "- des urls"
   ]
  },
  {
   "cell_type": "markdown",
   "metadata": {},
   "source": [
    "En conséquence, nous devons retranscrire les emojicônes/emoticônes car ils expriments un sentiment. \n",
    "Et il nous faut supprimer les autres éléments qui n'apportent pas forcément d'informations sur le sentiment du tweet, excepté pour les hashtags qui peuvent exprimer des sentiments tel que #encolere"
   ]
  },
  {
   "cell_type": "markdown",
   "metadata": {},
   "source": [
    "Commençons par ajouter au pipeline l'identification des emoticônes et des emojicônes en premier"
   ]
  },
  {
   "cell_type": "markdown",
   "metadata": {},
   "source": [
    "Pour rappel, dans le pipeline de spacy nous avons !!!!!!!!!!!!!!!!!!!!!!!!!!!!!!!!!!!!!!!!!!!!!!!!!!!!!!!!!!!!!!!!!!!"
   ]
  },
  {
   "cell_type": "code",
   "execution_count": 216,
   "metadata": {},
   "outputs": [],
   "source": [
    "nlp = spacy.load(\"en_core_web_sm\")\n",
    "_ = nlp.add_pipe(\"emoji\", first=True)"
   ]
  },
  {
   "cell_type": "code",
   "execution_count": 217,
   "metadata": {},
   "outputs": [
    {
     "data": {
      "text/plain": [
       "['emoji',\n",
       " 'tok2vec',\n",
       " 'tagger',\n",
       " 'parser',\n",
       " 'attribute_ruler',\n",
       " 'lemmatizer',\n",
       " 'ner']"
      ]
     },
     "execution_count": 217,
     "metadata": {},
     "output_type": "execute_result"
    }
   ],
   "source": [
    "nlp.pipe_names"
   ]
  },
  {
   "cell_type": "code",
   "execution_count": 218,
   "metadata": {},
   "outputs": [
    {
     "data": {
      "text/plain": [
       "10638"
      ]
     },
     "execution_count": 218,
     "metadata": {},
     "output_type": "execute_result"
    }
   ],
   "source": [
    "gc.collect()"
   ]
  },
  {
   "cell_type": "markdown",
   "metadata": {},
   "source": [
    "Nous avons bien ajouté emoji en premier. Vérifions que cela fonctionne avec un texte"
   ]
  },
  {
   "cell_type": "code",
   "execution_count": 219,
   "metadata": {},
   "outputs": [
    {
     "name": "stdout",
     "output_type": "stream",
     "text": [
      "[('Dr.', False), ('Alex', False), ('Smith', False), (':-)', False), ('😂', True), ('chaired', False), ('LMAO', False), ('first', False), ('board', False), ('meeting', False), ('of', False), ('Acme', False), ('Corp', False), ('Inc.', False), ('titi@gmail.com', False), ('<', False), ('https://t.co', False), ('>', False), ('Re', False)]\n"
     ]
    }
   ],
   "source": [
    "doc = nlp(\"Dr. Alex Smith :-) 😂 chaired LMAO first board meeting of Acme Corp Inc. titi@gmail.com <https://t.co> Re\")\n",
    "print([(token.text, token._.is_emoji) for token in doc])"
   ]
  },
  {
   "cell_type": "markdown",
   "metadata": {},
   "source": [
    "Notre emojicône est bien détectée contrairement à l'emoticône. Il nous faudra donc ajouter une autre méthode.\n",
    "Vérifions si nous pouvons détecter les url, les e-mails et la ponctuation."
   ]
  },
  {
   "cell_type": "markdown",
   "metadata": {},
   "source": [
    "!!!!!!!!!!!!!!!!!!!! problem ROFL | LOL | LMAO + :) :("
   ]
  },
  {
   "cell_type": "code",
   "execution_count": 220,
   "metadata": {},
   "outputs": [
    {
     "name": "stdout",
     "output_type": "stream",
     "text": [
      "[('Dr.', False, False, None, False, False), ('Alex', False, False, None, False, False), ('Smith', False, False, None, False, False), (':-)', True, False, None, False, False), ('😂', False, True, 'face with tears of joy', False, False), ('chaired', False, False, None, False, False), ('LMAO', False, False, None, False, False), ('first', False, False, None, False, True), ('board', False, False, None, False, False), ('meeting', False, False, None, False, False), ('of', False, False, None, False, True), ('Acme', False, False, None, False, False), ('Corp', False, False, None, False, False), ('Inc.', False, False, None, False, False), ('titi@gmail.com', False, False, None, True, False), ('<', False, False, None, False, False), ('https://t.co', False, False, None, False, False), ('>', False, False, None, False, False), ('Re', False, False, None, False, True)]\n"
     ]
    }
   ],
   "source": [
    "print([(token.text,token.is_punct, token._.is_emoji, token._.emoji_desc, token.like_email, token.is_stop) for token in doc])"
   ]
  },
  {
   "cell_type": "markdown",
   "metadata": {},
   "source": [
    "Nous détectons bien ces informations."
   ]
  },
  {
   "cell_type": "markdown",
   "metadata": {},
   "source": [
    "Ajoutons \"RE\" dans les stopwords qui apparait lors de la réponse direct à un tweet"
   ]
  },
  {
   "cell_type": "markdown",
   "metadata": {},
   "source": [
    "Voici un extrait de la liste des stopwords."
   ]
  },
  {
   "cell_type": "code",
   "execution_count": 221,
   "metadata": {},
   "outputs": [
    {
     "name": "stdout",
     "output_type": "stream",
     "text": [
      "{'fifty', 'not', 'after', 'as', 'would', 'across', 'too', 'indeed', 'anything', 'she', 'least', 'unless', 'when', 'whence', 'herein', '’s', '’d', 'anywhere', 'nine', 'himself', 'hundred', 'hereupon', 'somewhere', 'within', 'therein', 'whereby', 'others', 'somehow', 'whether', 'whenever', 'next', 'nothing', 'which', 'thru', 'nowhere', '‘ll', 'by', 'first', 'yourselves', 'only', 'almost', 'call', 'ourselves', 'her', 'any', 'already', 'him', 'much', 'neither', 'noone', 'who', 'hereafter', 'hers', '‘m', 'hence', 'along', 'thereby', 'another', 'sometimes', 'a', 'side', 'us', 'could', 'ever', \"'s\", 'if', 'own', 'whither', 'will', 'me', 'become', 'becomes', 'part', 'something', 'always', 'are', 'even', 'off', 'beside', 'toward', 'although', 'everyone', 'more', 'it', 'still', 'get', \"'ll\", 'no', 'just', 'done', 'under', 'before', 'namely', 'up', '‘s', 'from', 'n‘t', 'other', 'may', 'whole', 'he', 'do', 'and', 'to', 'three', 'its', 'eleven', 'latterly', 'anyway', 'can', 'yourself', 'keep', 'moreover', 'than', 'please', 'whose', 'quite', 'mostly', 'every', 'seem', 'that', '‘ve', 'eight', 'one', 'put', 'my', 'seems', 'made', 'give', 'name', 'never', 'again', 'none', 'but', 'such', 'third', 'top', 'otherwise', 'very', 'thence', '’re', 'via', 'else', 'less', 'why', 'because', 'was', 'beyond', 'therefore', 'anyone', 'anyhow', 'have', 'besides', 'the', \"'m\", 'afterwards', 'an', 'beforehand', 'yours', '’ve', 'you', 'using', 'mine', 'nevertheless', 'sixty', 'how', 'your', \"'re\", 'per', 'once', 'formerly', 'all', 'herself', 'about', 'on', 'thus', 'or', 'seeming', 'show', 'nor', 'see', 'towards', 'perhaps', 'must', 'wherever', 'above', 'amount', 'further', 'had', 'enough', 'our', 'alone', 'his', 'ours', 'while', 'over', 'at', 'so', 'say', 'around', '‘re', 'we', 'whoever', 'full', 'them', 'forty', 'now', 'seemed', 'among', 're', '’m', 'various', 'out', 'for', 'whom', 'go', 'without', 'during', \"'ve\", 'since', 'there', 'throughout', 'most', 'n’t', 'behind', 'ten', 'used', 'through', 'into', 'everywhere', 'take', 'twelve', 'however', 'move', 'two', 'be', 'itself', 'four', 'in', 'thereafter', 'onto', 'whereupon', 'bottom', 'against', 'myself', 'am', 'whereafter', 'down', 'should', 'well', 'empty', 'what', 'twenty', 'often', \"'d\", 'many', 'serious', 'either', 'becoming', 'those', 'really', 'is', 'someone', 'sometime', 'does', 'of', 'their', 'below', 'both', 'except', 'same', 'hereby', 'everything', 'few', 'with', 'until', 'due', 'meanwhile', 'six', 'these', 'though', 'together', 'also', \"n't\", 'last', 'been', 'became', 'each', 'were', 'did', 'wherein', 'fifteen', 'front', 'i', 'here', 'being', 'whereas', 'this', 'make', 'whatever', 'doing', 'several', '’ll', 'might', 'five', 'back', 'themselves', 'regarding', 'between', 'they', '‘d', 'has', 'former', 'yet', 'then', 'amongst', 'upon', 'rather', 'nobody', 'latter', 'where', 'some', 'thereupon', 'ca', 'cannot', 'elsewhere'}\n",
      "First ten stop words:  None\n"
     ]
    }
   ],
   "source": [
    "#Printing first ten stop words:\n",
    "print('First ten stop words: ', print(nlp.Defaults.stop_words))"
   ]
  },
  {
   "cell_type": "markdown",
   "metadata": {},
   "source": [
    "Ajoutons \"RE\""
   ]
  },
  {
   "cell_type": "code",
   "execution_count": 222,
   "metadata": {},
   "outputs": [],
   "source": [
    "nlp.Defaults.stop_words.add(\"re\")"
   ]
  },
  {
   "cell_type": "code",
   "execution_count": 223,
   "metadata": {},
   "outputs": [
    {
     "name": "stdout",
     "output_type": "stream",
     "text": [
      "[('Dr.', False, False, None, False, False), ('Alex', False, False, None, False, False), ('Smith', False, False, None, False, False), (':-)', True, False, None, False, False), ('😂', False, True, 'face with tears of joy', False, False), ('chaired', False, False, None, False, False), ('LMAO', False, False, None, False, False), ('first', False, False, None, False, True), ('board', False, False, None, False, False), ('meeting', False, False, None, False, False), ('of', False, False, None, False, True), ('Acme', False, False, None, False, False), ('Corp', False, False, None, False, False), ('Inc.', False, False, None, False, False), ('titi@gmail.com', False, False, None, True, False), ('<', False, False, None, False, False), ('https://t.co', False, False, None, False, False), ('>', False, False, None, False, False), ('Re', False, False, None, False, True)]\n"
     ]
    }
   ],
   "source": [
    "print([(token.text,token.is_punct, token._.is_emoji, token._.emoji_desc, token.like_email, token.is_stop) for token in doc])"
   ]
  },
  {
   "cell_type": "markdown",
   "metadata": {},
   "source": [
    "\"Re\" est donc bien détecté comme un stopword.\n",
    "\n",
    "Créons une fonction pour détecter les mentions dans les tweets (ex: @toto)"
   ]
  },
  {
   "cell_type": "code",
   "execution_count": 224,
   "metadata": {},
   "outputs": [],
   "source": [
    "from spacy.tokens import Token\n",
    "\n",
    "# Définit l'extension sur le Token avec une valeur par défaut\n",
    "#Token.set_extension(\"is_mention\", default=False)\n",
    "\n",
    "def is_mention_function(token):\n",
    "    if token.text.startswith(\"@\") == True and len(token.text)>1:\n",
    "        return True\n",
    "        \n",
    "Token.set_extension(\"is_mention\", getter=is_mention_function, force=True)"
   ]
  },
  {
   "cell_type": "code",
   "execution_count": 225,
   "metadata": {},
   "outputs": [
    {
     "name": "stdout",
     "output_type": "stream",
     "text": [
      "True\n"
     ]
    }
   ],
   "source": [
    "doc = nlp(\"I have @toto\")\n",
    "for token in doc:\n",
    "    if token._.is_mention == True:\n",
    "        print(token._.is_mention)"
   ]
  },
  {
   "cell_type": "markdown",
   "metadata": {},
   "source": [
    "La mention est bien détectée"
   ]
  },
  {
   "cell_type": "markdown",
   "metadata": {},
   "source": [
    "Nous pouvons donc créer un nouveau composant qui permettra d'obtenir nos mots nettoyés"
   ]
  },
  {
   "cell_type": "code",
   "execution_count": 226,
   "metadata": {},
   "outputs": [],
   "source": [
    "# Définit un composant personnalisé\n",
    "def text_clean_function(doc):\n",
    "    new_words = []\n",
    "    for token in doc:\n",
    "        if token._.is_emoji:\n",
    "            if token._.emoji_desc != \" \":\n",
    "                new_words.append(token._.emoji_desc)\n",
    "            else:\n",
    "                continue\n",
    "        elif token.like_email or token.is_stop or token.like_url:\n",
    "            continue\n",
    "        elif token._.is_mention == True:\n",
    "            continue\n",
    "        elif token.is_punct:\n",
    "            continue\n",
    "        else :\n",
    "            if token.text.strip() != \"\":\n",
    "                new_words.append(token.text)\n",
    "    return new_words\n"
   ]
  },
  {
   "cell_type": "code",
   "execution_count": 227,
   "metadata": {},
   "outputs": [],
   "source": [
    "from spacy.tokens import Doc\n",
    "\n",
    "@Language.component(\"pre_process_text\")\n",
    "def pre_process_text_function(doc):\n",
    "    # Generate a new list of tokens here\n",
    "    new_words = text_clean_function(doc)\n",
    "    new_doc = Doc(doc.vocab, words=new_words)\n",
    "    return new_doc"
   ]
  },
  {
   "cell_type": "code",
   "execution_count": 228,
   "metadata": {},
   "outputs": [
    {
     "data": {
      "text/plain": [
       "<function __main__.pre_process_text_function(doc)>"
      ]
     },
     "execution_count": 228,
     "metadata": {},
     "output_type": "execute_result"
    }
   ],
   "source": [
    "# Ajoute le composant en premier dans le pipeline\n",
    "nlp.add_pipe(\"pre_process_text\", before=\"tok2vec\")"
   ]
  },
  {
   "cell_type": "code",
   "execution_count": 229,
   "metadata": {},
   "outputs": [],
   "source": [
    "doc = nlp(\"Dr. Alex Smith :-) 😂 @toto chaired LMAO first board meeting of Acme Corp Inc. titi@gmail.com <https://t.co> Re\")\n"
   ]
  },
  {
   "cell_type": "code",
   "execution_count": 211,
   "metadata": {},
   "outputs": [],
   "source": [
    "def stemming_function(doc):\n",
    "    stemmer = SnowballStemmer(language='english')\n",
    "    list_doc = []\n",
    "    for token in doc:\n",
    "        print(token.text)\n",
    "        list_doc.append(stemmer.stem(token.text))\n",
    "    return list_doc"
   ]
  },
  {
   "cell_type": "code",
   "execution_count": 230,
   "metadata": {},
   "outputs": [],
   "source": [
    "test = stemming_function(doc)"
   ]
  },
  {
   "cell_type": "code",
   "execution_count": 232,
   "metadata": {},
   "outputs": [
    {
     "data": {
      "text/plain": [
       "'Dr. Alex Smith face with tears of joy chaired LMAO board meeting Acme Corp Inc. < > '"
      ]
     },
     "execution_count": 232,
     "metadata": {},
     "output_type": "execute_result"
    }
   ],
   "source": [
    "doc.text"
   ]
  },
  {
   "cell_type": "code",
   "execution_count": 231,
   "metadata": {},
   "outputs": [
    {
     "data": {
      "text/plain": [
       "['dr.',\n",
       " 'alex',\n",
       " 'smith',\n",
       " 'face with tears of joy',\n",
       " 'chair',\n",
       " 'lmao',\n",
       " 'board',\n",
       " 'meet',\n",
       " 'acm',\n",
       " 'corp',\n",
       " 'inc.',\n",
       " '<',\n",
       " '>']"
      ]
     },
     "execution_count": 231,
     "metadata": {},
     "output_type": "execute_result"
    }
   ],
   "source": [
    "test"
   ]
  },
  {
   "cell_type": "code",
   "execution_count": 277,
   "metadata": {},
   "outputs": [],
   "source": [
    "from spacy.tokens import Token\n",
    "\n",
    "# Définit l'extension sur le Token avec une valeur par défaut\n",
    "#Token.set_extension(\"is_mention\", default=False)\n",
    "def stemming_function(token):\n",
    "    stemmer = SnowballStemmer(language='english')\n",
    "    stem = stemmer.stem(token.text)\n",
    "    return stem\n",
    "\n",
    "Token.set_extension(\"stemming_\", getter=stemming_function, force=True)"
   ]
  },
  {
   "cell_type": "code",
   "execution_count": 274,
   "metadata": {},
   "outputs": [],
   "source": [
    "doc = nlp(\"Dr. Alex Smith :-) 😂 @toto chaired LMAO first board meeting of Acme Corp Inc. titi@gmail.com <https://t.co> Re\")\n"
   ]
  },
  {
   "cell_type": "code",
   "execution_count": 279,
   "metadata": {},
   "outputs": [
    {
     "name": "stdout",
     "output_type": "stream",
     "text": [
      "dr.\n",
      "alex\n",
      "smith\n",
      "face with tears of joy\n",
      "chair\n",
      "lmao\n",
      "board\n",
      "meet\n",
      "acm\n",
      "corp\n",
      "inc.\n",
      "<\n",
      ">\n"
     ]
    }
   ],
   "source": [
    "for token in doc:\n",
    "    print(token._.stemming_)"
   ]
  },
  {
   "cell_type": "code",
   "execution_count": 187,
   "metadata": {},
   "outputs": [
    {
     "data": {
      "application/vnd.jupyter.widget-view+json": {
       "model_id": "672d6f5fbbe443819bcdf8ee81f42bcb",
       "version_major": 2,
       "version_minor": 0
      },
      "text/plain": [
       "  0%|          | 0/100 [00:00<?, ?it/s]"
      ]
     },
     "metadata": {},
     "output_type": "display_data"
    }
   ],
   "source": [
    "df[\"tweet_clean\"] = df[\"tweet\"].progress_apply(lambda x: nlp(x))"
   ]
  },
  {
   "cell_type": "code",
   "execution_count": 188,
   "metadata": {},
   "outputs": [
    {
     "data": {
      "application/vnd.jupyter.widget-view+json": {
       "model_id": "51ecb362de1b4d0b961cc3bece6d4f95",
       "version_major": 2,
       "version_minor": 0
      },
      "text/plain": [
       "  0%|          | 0/100 [00:00<?, ?it/s]"
      ]
     },
     "metadata": {},
     "output_type": "display_data"
    }
   ],
   "source": [
    "df[\"tweet_lemma\"] = df[\"tweet\"].progress_apply(lambda x: [token.lemma_ for token in nlp(x)])"
   ]
  },
  {
   "cell_type": "code",
   "execution_count": 280,
   "metadata": {},
   "outputs": [
    {
     "data": {
      "application/vnd.jupyter.widget-view+json": {
       "model_id": "ecdc3abed9744cc5b9b98d720b7581b0",
       "version_major": 2,
       "version_minor": 0
      },
      "text/plain": [
       "  0%|          | 0/100 [00:00<?, ?it/s]"
      ]
     },
     "metadata": {},
     "output_type": "display_data"
    }
   ],
   "source": [
    "df[\"tweet_stem\"] = df[\"tweet\"].progress_apply(lambda x: [token._.stemming_ for token in nlp(x)])"
   ]
  },
  {
   "cell_type": "code",
   "execution_count": 281,
   "metadata": {},
   "outputs": [
    {
     "data": {
      "text/html": [
       "<div>\n",
       "<style scoped>\n",
       "    .dataframe tbody tr th:only-of-type {\n",
       "        vertical-align: middle;\n",
       "    }\n",
       "\n",
       "    .dataframe tbody tr th {\n",
       "        vertical-align: top;\n",
       "    }\n",
       "\n",
       "    .dataframe thead th {\n",
       "        text-align: right;\n",
       "    }\n",
       "</style>\n",
       "<table border=\"1\" class=\"dataframe\">\n",
       "  <thead>\n",
       "    <tr style=\"text-align: right;\">\n",
       "      <th></th>\n",
       "      <th>target</th>\n",
       "      <th>identity</th>\n",
       "      <th>date</th>\n",
       "      <th>username</th>\n",
       "      <th>tweet</th>\n",
       "      <th>target_lib</th>\n",
       "      <th>tweet_clean</th>\n",
       "      <th>tweet_lemma</th>\n",
       "      <th>tweet_stem</th>\n",
       "    </tr>\n",
       "  </thead>\n",
       "  <tbody>\n",
       "    <tr>\n",
       "      <th>0</th>\n",
       "      <td>0</td>\n",
       "      <td>2066896734</td>\n",
       "      <td>Sun Jun 07 11:22:24 PDT 2009</td>\n",
       "      <td>urfavnerd</td>\n",
       "      <td>Horrible cough  people gave me mean looks @ th...</td>\n",
       "      <td>Negative</td>\n",
       "      <td>(Horrible, cough, people, gave, mean, looks, m...</td>\n",
       "      <td>[horrible, cough, people, give, mean, look, mo...</td>\n",
       "      <td>[horribl, cough, peopl, gave, mean, look, movi...</td>\n",
       "    </tr>\n",
       "    <tr>\n",
       "      <th>1</th>\n",
       "      <td>0</td>\n",
       "      <td>2068940106</td>\n",
       "      <td>Sun Jun 07 14:58:47 PDT 2009</td>\n",
       "      <td>pmachenbach</td>\n",
       "      <td>i burnt my tounge</td>\n",
       "      <td>Negative</td>\n",
       "      <td>(burnt, tounge)</td>\n",
       "      <td>[burn, tounge]</td>\n",
       "      <td>[burnt, toung]</td>\n",
       "    </tr>\n",
       "  </tbody>\n",
       "</table>\n",
       "</div>"
      ],
      "text/plain": [
       "   target    identity                          date     username  \\\n",
       "0       0  2066896734  Sun Jun 07 11:22:24 PDT 2009    urfavnerd   \n",
       "1       0  2068940106  Sun Jun 07 14:58:47 PDT 2009  pmachenbach   \n",
       "\n",
       "                                               tweet target_lib  \\\n",
       "0  Horrible cough  people gave me mean looks @ th...   Negative   \n",
       "1                                 i burnt my tounge    Negative   \n",
       "\n",
       "                                         tweet_clean  \\\n",
       "0  (Horrible, cough, people, gave, mean, looks, m...   \n",
       "1                                    (burnt, tounge)   \n",
       "\n",
       "                                         tweet_lemma  \\\n",
       "0  [horrible, cough, people, give, mean, look, mo...   \n",
       "1                                     [burn, tounge]   \n",
       "\n",
       "                                          tweet_stem  \n",
       "0  [horribl, cough, peopl, gave, mean, look, movi...  \n",
       "1                                     [burnt, toung]  "
      ]
     },
     "execution_count": 281,
     "metadata": {},
     "output_type": "execute_result"
    }
   ],
   "source": [
    "df.head(2)"
   ]
  },
  {
   "cell_type": "markdown",
   "metadata": {},
   "source": [
    "Nous ne supprimons pas les # car on peut avoir des #encolere"
   ]
  },
  {
   "cell_type": "code",
   "execution_count": 169,
   "metadata": {},
   "outputs": [
    {
     "name": "stdout",
     "output_type": "stream",
     "text": [
      "True\n"
     ]
    }
   ],
   "source": [
    "import spacy\n",
    "from spacy.matcher import Matcher\n",
    "\n",
    "nlp = spacy.load(\"en_core_web_sm\")\n",
    "matcher = Matcher(nlp.vocab)\n",
    "\n",
    "\n",
    "pattern =  [{'ORTH': '#'}, {'IS_ASCII': True}]\n",
    "matcher.add('HASHTAG', [pattern])\n",
    "\n",
    "doc = nlp(\"Hello, world! Hello world! ###toto\")\n",
    "matches = matcher(doc)\n",
    "for match_id, start, end in matches:\n",
    "    string_id = nlp.vocab.strings[match_id]  # Get string representation\n",
    "    span = doc[start:end]  # The matched span\n",
    "    print( string_id, start, end, span.text)\n",
    "\n",
    "    "
   ]
  },
  {
   "cell_type": "code",
   "execution_count": 183,
   "metadata": {},
   "outputs": [
    {
     "data": {
      "text/html": [
       "<div>\n",
       "<style scoped>\n",
       "    .dataframe tbody tr th:only-of-type {\n",
       "        vertical-align: middle;\n",
       "    }\n",
       "\n",
       "    .dataframe tbody tr th {\n",
       "        vertical-align: top;\n",
       "    }\n",
       "\n",
       "    .dataframe thead th {\n",
       "        text-align: right;\n",
       "    }\n",
       "</style>\n",
       "<table border=\"1\" class=\"dataframe\">\n",
       "  <thead>\n",
       "    <tr style=\"text-align: right;\">\n",
       "      <th></th>\n",
       "      <th>target</th>\n",
       "      <th>identity</th>\n",
       "      <th>date</th>\n",
       "      <th>username</th>\n",
       "      <th>tweet</th>\n",
       "      <th>target_lib</th>\n",
       "      <th>tweet_clean</th>\n",
       "      <th>tweet_lemma</th>\n",
       "    </tr>\n",
       "  </thead>\n",
       "  <tbody>\n",
       "    <tr>\n",
       "      <th>0</th>\n",
       "      <td>0</td>\n",
       "      <td>2066896734</td>\n",
       "      <td>Sun Jun 07 11:22:24 PDT 2009</td>\n",
       "      <td>urfavnerd</td>\n",
       "      <td>Horrible cough  people gave me mean looks @ th...</td>\n",
       "      <td>Negative</td>\n",
       "      <td>(Horrible, cough, people, gave, mean, looks, m...</td>\n",
       "      <td>[horrible, cough, people, give, mean, look, mo...</td>\n",
       "    </tr>\n",
       "    <tr>\n",
       "      <th>1</th>\n",
       "      <td>0</td>\n",
       "      <td>2068940106</td>\n",
       "      <td>Sun Jun 07 14:58:47 PDT 2009</td>\n",
       "      <td>pmachenbach</td>\n",
       "      <td>i burnt my tounge</td>\n",
       "      <td>Negative</td>\n",
       "      <td>(burnt, tounge)</td>\n",
       "      <td>[burn, tounge]</td>\n",
       "    </tr>\n",
       "    <tr>\n",
       "      <th>2</th>\n",
       "      <td>0</td>\n",
       "      <td>2326228644</td>\n",
       "      <td>Thu Jun 25 06:44:32 PDT 2009</td>\n",
       "      <td>rewardme</td>\n",
       "      <td>@candice216 aww, i sorry    Hope it improves Q...</td>\n",
       "      <td>Negative</td>\n",
       "      <td>(aww, sorry, Hope, improves, QUICK)</td>\n",
       "      <td>[@candice216, aww, sorry, Hope, improve, QUICK]</td>\n",
       "    </tr>\n",
       "  </tbody>\n",
       "</table>\n",
       "</div>"
      ],
      "text/plain": [
       "   target    identity                          date     username  \\\n",
       "0       0  2066896734  Sun Jun 07 11:22:24 PDT 2009    urfavnerd   \n",
       "1       0  2068940106  Sun Jun 07 14:58:47 PDT 2009  pmachenbach   \n",
       "2       0  2326228644  Thu Jun 25 06:44:32 PDT 2009     rewardme   \n",
       "\n",
       "                                               tweet target_lib  \\\n",
       "0  Horrible cough  people gave me mean looks @ th...   Negative   \n",
       "1                                 i burnt my tounge    Negative   \n",
       "2  @candice216 aww, i sorry    Hope it improves Q...   Negative   \n",
       "\n",
       "                                         tweet_clean  \\\n",
       "0  (Horrible, cough, people, gave, mean, looks, m...   \n",
       "1                                    (burnt, tounge)   \n",
       "2                (aww, sorry, Hope, improves, QUICK)   \n",
       "\n",
       "                                         tweet_lemma  \n",
       "0  [horrible, cough, people, give, mean, look, mo...  \n",
       "1                                     [burn, tounge]  \n",
       "2    [@candice216, aww, sorry, Hope, improve, QUICK]  "
      ]
     },
     "execution_count": 183,
     "metadata": {},
     "output_type": "execute_result"
    }
   ],
   "source": [
    "df.head(3)"
   ]
  },
  {
   "cell_type": "code",
   "execution_count": 282,
   "metadata": {},
   "outputs": [
    {
     "data": {
      "text/plain": [
       "9912"
      ]
     },
     "execution_count": 282,
     "metadata": {},
     "output_type": "execute_result"
    }
   ],
   "source": [
    "gc.collect()"
   ]
  },
  {
   "cell_type": "markdown",
   "metadata": {},
   "source": [
    "#### !!!!!!!!!!!!retraçons les wordcloud par classe et par methode stem / lemma"
   ]
  },
  {
   "cell_type": "code",
   "execution_count": null,
   "metadata": {},
   "outputs": [],
   "source": []
  },
  {
   "cell_type": "code",
   "execution_count": null,
   "metadata": {},
   "outputs": [],
   "source": []
  },
  {
   "cell_type": "code",
   "execution_count": null,
   "metadata": {},
   "outputs": [],
   "source": []
  },
  {
   "cell_type": "markdown",
   "metadata": {},
   "source": [
    "## Feature engineering"
   ]
  },
  {
   "cell_type": "markdown",
   "metadata": {},
   "source": [
    "Deux méthodes : Glove, Fasttext"
   ]
  },
  {
   "cell_type": "markdown",
   "metadata": {},
   "source": [
    "### Commençons par Glove"
   ]
  },
  {
   "cell_type": "markdown",
   "metadata": {},
   "source": [
    "C'est un réseau de neurone qui permet de détecter des mots synonymes et  de suggérer des mots supplémentaires pour des phrases partielles une fois qu'il est formé."
   ]
  },
  {
   "cell_type": "code",
   "execution_count": null,
   "metadata": {},
   "outputs": [],
   "source": []
  },
  {
   "cell_type": "code",
   "execution_count": 67,
   "metadata": {},
   "outputs": [
    {
     "ename": "AttributeError",
     "evalue": "'str' object has no attribute 'str'",
     "output_type": "error",
     "traceback": [
      "\u001b[1;31m---------------------------------------------------------------------------\u001b[0m",
      "\u001b[1;31mAttributeError\u001b[0m                            Traceback (most recent call last)",
      "\u001b[1;32m~\\AppData\\Local\\Temp\\ipykernel_23364\\3282461450.py\u001b[0m in \u001b[0;36m<module>\u001b[1;34m\u001b[0m\n\u001b[1;32m----> 1\u001b[1;33m \u001b[0mpk\u001b[0m\u001b[1;33m.\u001b[0m\u001b[0mwordcloud_plot\u001b[0m\u001b[1;33m(\u001b[0m\u001b[0mstr\u001b[0m\u001b[1;33m(\u001b[0m\u001b[0mall_tweets\u001b[0m\u001b[1;33m)\u001b[0m\u001b[1;33m)\u001b[0m\u001b[1;33m\u001b[0m\u001b[1;33m\u001b[0m\u001b[0m\n\u001b[0m",
      "\u001b[1;32md:\\Users\\Aurel\\OneDrive_N\\OneDrive\\_WORK0\\IngenieurIA\\projets\\Projet7BadBuzz\\OP_Project7\\Package\\Scripts_Analyse01.py\u001b[0m in \u001b[0;36mwordcloud_plot\u001b[1;34m(data)\u001b[0m\n\u001b[0;32m    980\u001b[0m     \u001b[0mExample\u001b[0m\u001b[1;33m:\u001b[0m\u001b[1;33m\u001b[0m\u001b[1;33m\u001b[0m\u001b[0m\n\u001b[0;32m    981\u001b[0m          wordcloud_plot(reviews[\"words_subjects_st\"])\"\"\"\n\u001b[1;32m--> 982\u001b[1;33m     \u001b[0mall_reviews\u001b[0m \u001b[1;33m=\u001b[0m \u001b[0mdata\u001b[0m\u001b[1;33m.\u001b[0m\u001b[0mstr\u001b[0m\u001b[1;33m.\u001b[0m\u001b[0mcat\u001b[0m\u001b[1;33m(\u001b[0m\u001b[0msep\u001b[0m\u001b[1;33m=\u001b[0m\u001b[1;34m' '\u001b[0m\u001b[1;33m)\u001b[0m\u001b[1;33m\u001b[0m\u001b[1;33m\u001b[0m\u001b[0m\n\u001b[0m\u001b[0;32m    983\u001b[0m     \u001b[0mwordcloud\u001b[0m \u001b[1;33m=\u001b[0m \u001b[0mWordCloud\u001b[0m\u001b[1;33m(\u001b[0m\u001b[0mbackground_color\u001b[0m \u001b[1;33m=\u001b[0m \u001b[1;34m'white'\u001b[0m\u001b[1;33m,\u001b[0m \u001b[0mmax_words\u001b[0m \u001b[1;33m=\u001b[0m \u001b[1;36m60\u001b[0m\u001b[1;33m)\u001b[0m\u001b[1;33m.\u001b[0m\u001b[0mgenerate\u001b[0m\u001b[1;33m(\u001b[0m\u001b[0mall_reviews\u001b[0m\u001b[1;33m)\u001b[0m\u001b[1;33m\u001b[0m\u001b[1;33m\u001b[0m\u001b[0m\n\u001b[0;32m    984\u001b[0m     \u001b[0mplt\u001b[0m\u001b[1;33m.\u001b[0m\u001b[0mimshow\u001b[0m\u001b[1;33m(\u001b[0m\u001b[0mwordcloud\u001b[0m\u001b[1;33m)\u001b[0m\u001b[1;33m\u001b[0m\u001b[1;33m\u001b[0m\u001b[0m\n",
      "\u001b[1;31mAttributeError\u001b[0m: 'str' object has no attribute 'str'"
     ]
    }
   ],
   "source": [
    "pk.wordcloud_plot(str(all_tweets))"
   ]
  },
  {
   "cell_type": "code",
   "execution_count": 69,
   "metadata": {},
   "outputs": [
    {
     "data": {
      "image/png": "[encoded data removed]",
      "text/plain": [
       "<Figure size 576x396 with 1 Axes>"
      ]
     },
     "metadata": {},
     "output_type": "display_data"
    }
   ],
   "source": [
    "    #all_reviews = data.str.cat(sep=' ')\n",
    "    wordcloud = WordCloud(background_color = 'white', max_words = 60).generate(str(all_tweets))\n",
    "    plt.imshow(wordcloud)\n",
    "    plt.axis(\"off\")\n",
    "    plt.show()"
   ]
  },
  {
   "cell_type": "code",
   "execution_count": null,
   "metadata": {},
   "outputs": [],
   "source": [
    "word2vec / tf-idf / bag of word / Glove / fasttext ajouter >> spacy"
   ]
  },
  {
   "cell_type": "markdown",
   "metadata": {},
   "source": [
    "### Passons à Fasttext"
   ]
  },
  {
   "cell_type": "code",
   "execution_count": null,
   "metadata": {},
   "outputs": [],
   "source": []
  },
  {
   "cell_type": "markdown",
   "metadata": {},
   "source": [
    "## Service cognitif Azure : Analyse de sentiment"
   ]
  },
  {
   "cell_type": "code",
   "execution_count": 5,
   "metadata": {},
   "outputs": [],
   "source": [
    "#################key vault\n",
    "\n",
    "cog_key = os.getenv('cog_key')\n",
    "cog_endpoint = os.getenv('cog_endpoint')\n",
    "\n",
    "#print('Ready to use cognitive services at {} using key {}'.format(cog_endpoint, cog_key))\n"
   ]
  },
  {
   "cell_type": "code",
   "execution_count": 6,
   "metadata": {},
   "outputs": [],
   "source": [
    "import os\n",
    "from azure.ai.textanalytics import TextAnalyticsClient\n",
    "\n",
    "from azure.cognitiveservices.language.textanalytics import TextAnalyticsClient\n",
    "from msrest.authentication import CognitiveServicesCredentials\n",
    "\n",
    "# Get a client for your text analytics cognitive service resource\n",
    "text_analytics_client = TextAnalyticsClient(endpoint=cog_endpoint,\n",
    "                                            credentials=CognitiveServicesCredentials(cog_key))\n"
   ]
  },
  {
   "cell_type": "code",
   "execution_count": 9,
   "metadata": {},
   "outputs": [],
   "source": [
    "from azure.ai.textanalytics import TextAnalyticsClient\n",
    "from azure.core.credentials import AzureKeyCredential\n",
    "\n",
    "# Authenticate the client using your key and endpoint \n",
    "def authenticate_client():\n",
    "    ta_credential = AzureKeyCredential(cog_key)\n",
    "    text_analytics_client = TextAnalyticsClient(\n",
    "            endpoint=cog_endpoint, \n",
    "            credential=ta_credential)\n",
    "    return text_analytics_client\n",
    "\n",
    "client = authenticate_client()"
   ]
  },
  {
   "cell_type": "code",
   "execution_count": 10,
   "metadata": {},
   "outputs": [
    {
     "name": "stdout",
     "output_type": "stream",
     "text": [
      "Document Sentiment: positive\n",
      "Overall scores: positive=0.99; neutral=0.00; negative=0.00 \n",
      "\n"
     ]
    }
   ],
   "source": [
    "documents = [\"I had the best day of my life. I wish you were there with me.\"]\n",
    "response = client.analyze_sentiment(documents=documents)[0]\n",
    "print(\"Document Sentiment: {}\".format(response.sentiment))\n",
    "print(\"Overall scores: positive={0:.2f}; neutral={1:.2f}; negative={2:.2f} \\n\".format(\n",
    "        response.confidence_scores.positive,\n",
    "        response.confidence_scores.neutral,\n",
    "        response.confidence_scores.negative,\n",
    "    ))\n"
   ]
  },
  {
   "cell_type": "code",
   "execution_count": null,
   "metadata": {},
   "outputs": [],
   "source": []
  },
  {
   "cell_type": "code",
   "execution_count": null,
   "metadata": {},
   "outputs": [],
   "source": []
  },
  {
   "cell_type": "code",
   "execution_count": null,
   "metadata": {},
   "outputs": [],
   "source": []
  },
  {
   "cell_type": "code",
   "execution_count": null,
   "metadata": {},
   "outputs": [],
   "source": []
  },
  {
   "cell_type": "code",
   "execution_count": null,
   "metadata": {},
   "outputs": [],
   "source": []
  },
  {
   "cell_type": "markdown",
   "metadata": {},
   "source": [
    "## Part 2"
   ]
  },
  {
   "cell_type": "markdown",
   "metadata": {},
   "source": []
  }
 ],
 "metadata": {
  "interpreter": {
   "hash": "0f681b607d6245441407fad5111e7bbf40ae34c4d086033864a31dfcbc85c84d"
  },
  "kernelspec": {
   "display_name": "Bash",
   "language": "python",
   "name": "python3"
  },
  "language_info": {
   "codemirror_mode": {
    "name": "ipython",
    "version": 3
   },
   "file_extension": ".py",
   "mimetype": "text/x-python",
   "name": "python",
   "nbconvert_exporter": "python",
   "pygments_lexer": "ipython3",
   "version": "3.7.4"
  },
  "orig_nbformat": 4
 },
 "nbformat": 4,
 "nbformat_minor": 2
}
