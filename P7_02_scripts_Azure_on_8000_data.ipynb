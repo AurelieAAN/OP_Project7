{
  "cells": [
    {
      "cell_type": "code",
      "source": [
        "import sys\r\n",
        "# Insert the path of modules folder\r\n",
        "sys.path.insert(0, \"Package\")\r\n",
        "  \r\n",
        "# Import the module0 directly since\r\n",
        "# the current path is of modules.\r\n",
        "import Scripts_Analyse01 as pk\r\n",
        "import Scripts_AnalyseMulti01 as pk_multi\r\n",
        "import Scripts_AnalyseMulti02_Unsupervised as pk_multi_unsp\r\n",
        "import Scripts_AnalyseMulti02_Supervised as pk_multi_sup"
      ],
      "outputs": [],
      "execution_count": 3,
      "metadata": {
        "jupyter": {
          "source_hidden": false,
          "outputs_hidden": false
        },
        "nteract": {
          "transient": {
            "deleting": false
          }
        },
        "gather": {
          "logged": 1658874801511
        }
      }
    },
    {
      "cell_type": "code",
      "source": [
        "import random\n",
        "import os\n",
        "# notre package de fonctionnalités\n",
        "from emot.emo_unicode import UNICODE_EMOJI # For emojis\n",
        "from emot.emo_unicode import EMOTICONS_EMO # For EMOTICONS\n",
        "from IPython.core.display import display, HTML\n",
        "from plotly.offline import download_plotlyjs, init_notebook_mode, plot, iplot\n",
        "import pandas as pd\n",
        "import numpy as np\n",
        "import missingno\n",
        "import matplotlib.pyplot as plt\n",
        "import matplotlib.patches as mpatches\n",
        "from umap import UMAP\n",
        "from scipy.stats import pearsonr\n",
        "import seaborn as sns\n",
        "import plotly.express as px\n",
        "import plotly.graph_objects as go\n",
        "from yellowbrick.features import ParallelCoordinates\n",
        "from plotly.graph_objects import Layout\n",
        "from sklearn.decomposition import PCA\n",
        "from sklearn.preprocessing import StandardScaler, MinMaxScaler, scale\n",
        "from sklearn.datasets import make_blobs\n",
        "from yellowbrick.cluster import KElbowVisualizer\n",
        "from yellowbrick.features import PCA as PCA_yellow\n",
        "from yellowbrick.style import set_palette\n",
        "from sklearn import metrics\n",
        "from gensim.models.ldamodel import LdaModel\n",
        "from  sklearn.feature_extraction.text  import CountVectorizer \n",
        "from sklearn.decomposition import SparsePCA\n",
        "import gensim.downloader as api\n",
        "import gc\n",
        "import time\n",
        "from contextlib import contextmanager\n",
        "from sklearn import cluster\n",
        "import warnings\n",
        "from dotenv import load_dotenv\n",
        "#from emot.emo_unicode import EMOTICONS_EMO# For EMOTICONS\n",
        "from spacy.tokens import Token\n",
        "import re\n",
        "# Gensim\n",
        "import gensim\n",
        "import gensim.corpora as corpora\n",
        "from gensim.models import CoherenceModel\n",
        "from wordcloud import WordCloud\n",
        "from unidecode import unidecode\n",
        "from sklearn import metrics\n",
        "from sklearn import manifold, decomposition\n",
        "# Get topic weights and dominant topics ------------\n",
        "from sklearn.manifold import TSNE\n",
        "from bokeh.plotting import figure, output_file, show\n",
        "from bokeh.models import Label\n",
        "from bokeh.io import output_notebook\n",
        "import matplotlib.colors as mcolors\n",
        "import string\n",
        "from spacy.lang.en.stop_words import STOP_WORDS\n",
        "from spacy.lang.en import English\n",
        "from nltk.stem.snowball import SnowballStemmer\n",
        "from spacy.language import Language\n",
        "import spacy\n",
        "from sklearn.metrics import roc_auc_score, roc_curve, auc\n",
        "from sklearn.linear_model import LogisticRegression\n",
        "from sklearn.ensemble import RandomForestClassifier\n",
        "from hyperopt import fmin, tpe, hp, SparkTrials, STATUS_OK, Trials\n",
        "from sklearn.metrics import make_scorer\n",
        "from sklearn.svm import SVC\n",
        "from functools import partial\n",
        "from gensim.models import FastText  \n",
        "from imblearn.pipeline import Pipeline, make_pipeline\n",
        "from sklearn.model_selection import cross_val_score\n",
        "import numpy as np\n",
        "import tensorflow as tf\n",
        "#Load Packages\n",
        "from keras.models import Sequential\n",
        "from keras.layers import Dense, Flatten, Dropout, Bidirectional\n",
        "from keras.layers import LSTM\n",
        "from keras.layers import Activation\n",
        "from keras.layers import Embedding\n",
        "import mlflow\n",
        "from sklearn.model_selection import StratifiedKFold\n",
        "from sklearn.preprocessing import StandardScaler\n",
        "import joblib\n",
        "\n",
        "\n"
      ],
      "outputs": [
        {
          "output_type": "stream",
          "name": "stderr",
          "text": "/tmp/ipykernel_26499/3867817780.py:6: DeprecationWarning: Importing display from IPython.core.display is deprecated since IPython 7.14, please import from IPython display\n  from IPython.core.display import display, HTML\n"
        }
      ],
      "execution_count": 4,
      "metadata": {
        "gather": {
          "logged": 1658874811642
        }
      }
    },
    {
      "cell_type": "code",
      "source": [
        "from tqdm import tqdm,notebook\n",
        "notebook.tqdm().pandas()"
      ],
      "outputs": [
        {
          "output_type": "display_data",
          "data": {
            "text/plain": "0it [00:00, ?it/s]",
            "application/vnd.jupyter.widget-view+json": {
              "version_major": 2,
              "version_minor": 0,
              "model_id": "71ccbb81de5e4ca895d138253bbdc8bb"
            }
          },
          "metadata": {}
        }
      ],
      "execution_count": 5,
      "metadata": {
        "gather": {
          "logged": 1658874811969
        }
      }
    },
    {
      "cell_type": "code",
      "source": [
        "load_dotenv()"
      ],
      "outputs": [
        {
          "output_type": "execute_result",
          "execution_count": 6,
          "data": {
            "text/plain": "True"
          },
          "metadata": {}
        }
      ],
      "execution_count": 6,
      "metadata": {
        "gather": {
          "logged": 1658874812262
        }
      }
    },
    {
      "cell_type": "code",
      "source": [
        "df = pd.read_csv('input/base.csv', encoding='latin-1', header=None)\n",
        "df = df.drop([3], axis=1)\n",
        "df.columns = [\"target\", \"identity\", \"date\", \"username\", \"tweet\"]\n",
        "df.head(2)"
      ],
      "outputs": [],
      "execution_count": null,
      "metadata": {
        "gather": {
          "logged": 1658874683405
        }
      }
    },
    {
      "cell_type": "code",
      "source": [
        "def data_sample(n):\n",
        "    part1 = df.loc[df[\"target\"]==0]\n",
        "    part1 = part1.sample(n)\n",
        "    part2 = df.loc[df[\"target\"]==4]\n",
        "    part2 = part2.sample(n)\n",
        "    res = pd.concat([part1, part2])\n",
        "    return res"
      ],
      "outputs": [],
      "execution_count": null,
      "metadata": {
        "gather": {
          "logged": 1658854083202
        }
      }
    },
    {
      "cell_type": "code",
      "source": [
        "df = data_sample(6000)"
      ],
      "outputs": [],
      "execution_count": null,
      "metadata": {
        "gather": {
          "logged": 1658872605929
        }
      }
    },
    {
      "cell_type": "code",
      "source": [
        "df = pd.read_csv(\"sample_6000.csv\")"
      ],
      "outputs": [],
      "execution_count": 195,
      "metadata": {
        "jupyter": {
          "source_hidden": false,
          "outputs_hidden": false
        },
        "nteract": {
          "transient": {
            "deleting": false
          }
        },
        "gather": {
          "logged": 1658891308751
        }
      }
    },
    {
      "cell_type": "code",
      "source": [
        "df"
      ],
      "outputs": [
        {
          "output_type": "execute_result",
          "execution_count": 196,
          "data": {
            "text/plain": "       Unnamed: 0  target    identity                          date  \\\n0          685179       0  2250709633  Sat Jun 20 01:15:45 PDT 2009   \n1           39987       0  1573669496  Tue Apr 21 02:16:36 PDT 2009   \n2          213040       0  1974898589  Sat May 30 14:02:22 PDT 2009   \n3          697040       0  2253704737  Sat Jun 20 08:36:36 PDT 2009   \n4          655140       0  2239775274  Fri Jun 19 08:57:10 PDT 2009   \n...           ...     ...         ...                           ...   \n15995     1378561       4  2052026366  Fri Jun 05 23:26:48 PDT 2009   \n15996     1598172       4  2193106762  Tue Jun 16 08:00:23 PDT 2009   \n15997     1083151       4  1968821245  Fri May 29 22:17:57 PDT 2009   \n15998      968495       4  1827869439  Sun May 17 11:37:02 PDT 2009   \n15999     1167705       4  1980080883  Sun May 31 05:37:05 PDT 2009   \n\n            username                                              tweet  \n0      deliah_wilson  just ran into the wall. it hurt. and my finger...  \n1           sum1else  @Jayisgames Maybe all the people with new idea...  \n2             esv123  Kind of  I cant wait for summer so I can go to...  \n3           DalKhera  @bowwow614 it doesn't let me watch it off my i...  \n4          LostCandy  @ah__na Mine begins at 7 am and ends at 12 or ...  \n...              ...                                                ...  \n15995       elayskie  waiting for someone to confirm if he's leaving...  \n15996          8RKS8  @sweetemmaxxx yeah, pretty much. Its a video c...  \n15997  mrnewyork2008  Relaxing at home tonight. Pretty sad how frien...  \n15998        GNRAnni                             Pizza and a cold Bear   \n15999    gerrycircus  @claireisis thats absolutely amazing!You're a ...  \n\n[16000 rows x 6 columns]",
            "text/html": "<div>\n<style scoped>\n    .dataframe tbody tr th:only-of-type {\n        vertical-align: middle;\n    }\n\n    .dataframe tbody tr th {\n        vertical-align: top;\n    }\n\n    .dataframe thead th {\n        text-align: right;\n    }\n</style>\n<table border=\"1\" class=\"dataframe\">\n  <thead>\n    <tr style=\"text-align: right;\">\n      <th></th>\n      <th>Unnamed: 0</th>\n      <th>target</th>\n      <th>identity</th>\n      <th>date</th>\n      <th>username</th>\n      <th>tweet</th>\n    </tr>\n  </thead>\n  <tbody>\n    <tr>\n      <th>0</th>\n      <td>685179</td>\n      <td>0</td>\n      <td>2250709633</td>\n      <td>Sat Jun 20 01:15:45 PDT 2009</td>\n      <td>deliah_wilson</td>\n      <td>just ran into the wall. it hurt. and my finger...</td>\n    </tr>\n    <tr>\n      <th>1</th>\n      <td>39987</td>\n      <td>0</td>\n      <td>1573669496</td>\n      <td>Tue Apr 21 02:16:36 PDT 2009</td>\n      <td>sum1else</td>\n      <td>@Jayisgames Maybe all the people with new idea...</td>\n    </tr>\n    <tr>\n      <th>2</th>\n      <td>213040</td>\n      <td>0</td>\n      <td>1974898589</td>\n      <td>Sat May 30 14:02:22 PDT 2009</td>\n      <td>esv123</td>\n      <td>Kind of  I cant wait for summer so I can go to...</td>\n    </tr>\n    <tr>\n      <th>3</th>\n      <td>697040</td>\n      <td>0</td>\n      <td>2253704737</td>\n      <td>Sat Jun 20 08:36:36 PDT 2009</td>\n      <td>DalKhera</td>\n      <td>@bowwow614 it doesn't let me watch it off my i...</td>\n    </tr>\n    <tr>\n      <th>4</th>\n      <td>655140</td>\n      <td>0</td>\n      <td>2239775274</td>\n      <td>Fri Jun 19 08:57:10 PDT 2009</td>\n      <td>LostCandy</td>\n      <td>@ah__na Mine begins at 7 am and ends at 12 or ...</td>\n    </tr>\n    <tr>\n      <th>...</th>\n      <td>...</td>\n      <td>...</td>\n      <td>...</td>\n      <td>...</td>\n      <td>...</td>\n      <td>...</td>\n    </tr>\n    <tr>\n      <th>15995</th>\n      <td>1378561</td>\n      <td>4</td>\n      <td>2052026366</td>\n      <td>Fri Jun 05 23:26:48 PDT 2009</td>\n      <td>elayskie</td>\n      <td>waiting for someone to confirm if he's leaving...</td>\n    </tr>\n    <tr>\n      <th>15996</th>\n      <td>1598172</td>\n      <td>4</td>\n      <td>2193106762</td>\n      <td>Tue Jun 16 08:00:23 PDT 2009</td>\n      <td>8RKS8</td>\n      <td>@sweetemmaxxx yeah, pretty much. Its a video c...</td>\n    </tr>\n    <tr>\n      <th>15997</th>\n      <td>1083151</td>\n      <td>4</td>\n      <td>1968821245</td>\n      <td>Fri May 29 22:17:57 PDT 2009</td>\n      <td>mrnewyork2008</td>\n      <td>Relaxing at home tonight. Pretty sad how frien...</td>\n    </tr>\n    <tr>\n      <th>15998</th>\n      <td>968495</td>\n      <td>4</td>\n      <td>1827869439</td>\n      <td>Sun May 17 11:37:02 PDT 2009</td>\n      <td>GNRAnni</td>\n      <td>Pizza and a cold Bear</td>\n    </tr>\n    <tr>\n      <th>15999</th>\n      <td>1167705</td>\n      <td>4</td>\n      <td>1980080883</td>\n      <td>Sun May 31 05:37:05 PDT 2009</td>\n      <td>gerrycircus</td>\n      <td>@claireisis thats absolutely amazing!You're a ...</td>\n    </tr>\n  </tbody>\n</table>\n<p>16000 rows × 6 columns</p>\n</div>"
          },
          "metadata": {}
        }
      ],
      "execution_count": 196,
      "metadata": {
        "jupyter": {
          "source_hidden": false,
          "outputs_hidden": false
        },
        "nteract": {
          "transient": {
            "deleting": false
          }
        },
        "gather": {
          "logged": 1658891309821
        }
      }
    },
    {
      "cell_type": "code",
      "source": [
        "del df[\"Unnamed: 0\"]"
      ],
      "outputs": [],
      "execution_count": 197,
      "metadata": {
        "jupyter": {
          "source_hidden": false,
          "outputs_hidden": false
        },
        "nteract": {
          "transient": {
            "deleting": false
          }
        },
        "gather": {
          "logged": 1658891310577
        }
      }
    },
    {
      "cell_type": "code",
      "source": [
        "sum(df.duplicated())"
      ],
      "outputs": [
        {
          "output_type": "execute_result",
          "execution_count": 198,
          "data": {
            "text/plain": "0"
          },
          "metadata": {}
        }
      ],
      "execution_count": 198,
      "metadata": {
        "gather": {
          "logged": 1658891311669
        }
      }
    },
    {
      "cell_type": "code",
      "source": [
        "gc.collect()"
      ],
      "outputs": [
        {
          "output_type": "stream",
          "name": "stdout",
          "text": "WARNING:tensorflow:Detecting that an object or model or tf.train.Checkpoint is being deleted with unrestored values. See the following logs for the specific values in question. To silence these warnings, use `status.expect_partial()`. See https://www.tensorflow.org/api_docs/python/tf/train/Checkpoint#restorefor details about the status object returned by the restore function.\nWARNING:tensorflow:Value in checkpoint could not be found in the restored object: (root).optimizer.iter\nWARNING:tensorflow:Value in checkpoint could not be found in the restored object: (root).optimizer.beta_1\nWARNING:tensorflow:Value in checkpoint could not be found in the restored object: (root).optimizer.beta_2\nWARNING:tensorflow:Value in checkpoint could not be found in the restored object: (root).optimizer.decay\nWARNING:tensorflow:Value in checkpoint could not be found in the restored object: (root).optimizer.learning_rate\n"
        },
        {
          "output_type": "execute_result",
          "execution_count": 199,
          "data": {
            "text/plain": "2875"
          },
          "metadata": {}
        }
      ],
      "execution_count": 199,
      "metadata": {
        "gather": {
          "logged": 1658891313073
        }
      }
    },
    {
      "cell_type": "code",
      "source": [
        "nlp=spacy.load(\"en_core_web_sm\")\n",
        "_ = nlp.add_pipe(\"emoji\", first=True)"
      ],
      "outputs": [],
      "execution_count": 200,
      "metadata": {
        "gather": {
          "logged": 1658891313558
        }
      }
    },
    {
      "cell_type": "code",
      "source": [
        "def is_emoticons_function(token):\n",
        "    if token.like_url==True:\n",
        "        return False\n",
        "    else:\n",
        "        check = pk.convert_emoticons(token.text)\n",
        "    if check != token.text:\n",
        "        return True"
      ],
      "outputs": [],
      "execution_count": 201,
      "metadata": {
        "gather": {
          "logged": 1658891313957
        }
      }
    },
    {
      "cell_type": "code",
      "source": [
        "Token.set_extension(\"is_emoticons\", getter=is_emoticons_function, force=True)\n"
      ],
      "outputs": [],
      "execution_count": 202,
      "metadata": {
        "gather": {
          "logged": 1658891314254
        }
      }
    },
    {
      "cell_type": "code",
      "source": [
        "import spacy\n",
        "stopwords = nlp.Defaults.stop_words\n",
        "nlp.Defaults.stop_words.add(\"re\")"
      ],
      "outputs": [],
      "execution_count": 203,
      "metadata": {
        "gather": {
          "logged": 1658891314570
        }
      }
    },
    {
      "cell_type": "code",
      "source": [
        "nlp.Defaults.stop_words -= {\"not\", \"no\", \"n't\",'n’t', \"would\", \"without\", \"could\", \"still\", \"ever\", \n",
        "                            \"yet\", \"almost\", \"should\", \"always\", \"too\", \"sometimes\", \"except\", \n",
        "                            \"everything\", \"really\", \"nothing\", \"down\", \"also\", \"very\", \"most\", \"'d\", \n",
        "                            \"serious\", \"than\", \"however\", \"well\", \"neither\", \"anyhow\", \"few\",\n",
        "                            \"rather\", \"mostly\", \"none\", \"must\", \"less\", \"many\", \"as\", \"often\", \n",
        "                            \"never\", \"enough\", \"much\", \"out\", \"but\", \"whereas\", \"netherrless\",\n",
        "                            \"next\", \"even\", \"although\", \"why\", \"again\", \"perhaps\", \"cannot\"}"
      ],
      "outputs": [],
      "execution_count": 204,
      "metadata": {
        "gather": {
          "logged": 1658891314921
        }
      }
    },
    {
      "cell_type": "code",
      "source": [
        "stopwords=nlp.Defaults.stop_words"
      ],
      "outputs": [],
      "execution_count": 205,
      "metadata": {
        "gather": {
          "logged": 1658891315267
        }
      }
    },
    {
      "cell_type": "code",
      "source": [
        "# Définit l'extension sur le Token avec une valeur par défaut\n",
        "#Token.set_extension(\"is_mention\", default=False)\n",
        "\n",
        "def is_mention_function(token):\n",
        "    if token.text.startswith(\"@\") == True and len(token.text)>1:\n",
        "        return True\n",
        "        \n",
        "Token.set_extension(\"is_mention\", getter=is_mention_function, force=True)"
      ],
      "outputs": [],
      "execution_count": 206,
      "metadata": {
        "gather": {
          "logged": 1658891315598
        }
      }
    },
    {
      "cell_type": "code",
      "source": [
        "# Définit un composant personnalisé\n",
        "def text_clean_function(doc):\n",
        "    new_words = []\n",
        "    for token in doc:\n",
        "        if token._.is_emoji:\n",
        "            new_words.append(token._.emoji_desc)\n",
        "        elif token._.is_emoticons:\n",
        "            new_words.append(pk.convert_emoticons(token.text))\n",
        "        elif token.like_email or token.is_stop or token.like_url:\n",
        "            continue\n",
        "        elif token._.is_mention == True:\n",
        "            continue\n",
        "        elif token.is_punct or \"<\" in token.text or \">\" in token.text:\n",
        "            continue\n",
        "        else :\n",
        "            if token.text.strip() != \"\":\n",
        "                new_words.append(token.text)\n",
        "    return new_words\n"
      ],
      "outputs": [],
      "execution_count": 207,
      "metadata": {
        "gather": {
          "logged": 1658891315877
        }
      }
    },
    {
      "cell_type": "code",
      "source": [
        "from spacy.tokens import Doc\n",
        "\n",
        "@Language.component(\"pre_process_text\")\n",
        "def pre_process_text_function(doc):\n",
        "    # Generate a new list of tokens here\n",
        "    new_words = text_clean_function(doc)\n",
        "    new_doc = Doc(doc.vocab, words=new_words)\n",
        "    return new_doc"
      ],
      "outputs": [],
      "execution_count": 208,
      "metadata": {
        "gather": {
          "logged": 1658891316159
        }
      }
    },
    {
      "cell_type": "code",
      "source": [
        "# Ajoute le composant en premier dans le pipeline\n",
        "nlp.add_pipe(\"pre_process_text\", before=\"tok2vec\")"
      ],
      "outputs": [
        {
          "output_type": "execute_result",
          "execution_count": 209,
          "data": {
            "text/plain": "<function __main__.pre_process_text_function(doc)>"
          },
          "metadata": {}
        }
      ],
      "execution_count": 209,
      "metadata": {
        "gather": {
          "logged": 1658891316568
        }
      }
    },
    {
      "cell_type": "code",
      "source": [
        "df[\"tweet_clean\"] = df[\"tweet\"].progress_apply(lambda x: nlp(x))"
      ],
      "outputs": [
        {
          "output_type": "display_data",
          "data": {
            "text/plain": "  0%|          | 0/16000 [00:00<?, ?it/s]",
            "application/vnd.jupyter.widget-view+json": {
              "version_major": 2,
              "version_minor": 0,
              "model_id": "00516400caf446b39a70c02f92e12ed9"
            }
          },
          "metadata": {}
        }
      ],
      "execution_count": 210,
      "metadata": {
        "gather": {
          "logged": 1658891417187
        }
      }
    },
    {
      "cell_type": "code",
      "source": [
        "df[\"tweet_lemma\"] = df[\"tweet\"].progress_apply(lambda x: [token.lemma_ for token in nlp(x)])"
      ],
      "outputs": [
        {
          "output_type": "display_data",
          "data": {
            "text/plain": "  0%|          | 0/16000 [00:00<?, ?it/s]",
            "application/vnd.jupyter.widget-view+json": {
              "version_major": 2,
              "version_minor": 0,
              "model_id": "4de791cb714b467cb6d917051632e331"
            }
          },
          "metadata": {}
        }
      ],
      "execution_count": 211,
      "metadata": {
        "gather": {
          "logged": 1658891513975
        }
      }
    },
    {
      "cell_type": "code",
      "source": [
        "df[\"tweet_lemma_join\"] = df[\"tweet_lemma\"].progress_apply(lambda x: \" \".join(x))"
      ],
      "outputs": [
        {
          "output_type": "display_data",
          "data": {
            "text/plain": "  0%|          | 0/16000 [00:00<?, ?it/s]",
            "application/vnd.jupyter.widget-view+json": {
              "version_major": 2,
              "version_minor": 0,
              "model_id": "fa7b7c7902dd4b4dbaf38e2adf2f0039"
            }
          },
          "metadata": {}
        }
      ],
      "execution_count": 212,
      "metadata": {
        "gather": {
          "logged": 1658891514312
        }
      }
    },
    {
      "cell_type": "markdown",
      "source": [
        "Pour que la target soit plus parlante, on va mettre 1 = positif et 0 = négatif"
      ],
      "metadata": {}
    },
    {
      "cell_type": "code",
      "source": [
        "df['target'] = (df['target'] == 4).astype(int)"
      ],
      "outputs": [],
      "execution_count": 213,
      "metadata": {
        "gather": {
          "logged": 1658891514569
        }
      }
    },
    {
      "cell_type": "code",
      "source": [
        "pk.wordcloud_plot(df.loc[df[\"target\"]==0][\"tweet_lemma_join\"])"
      ],
      "outputs": [
        {
          "output_type": "display_data",
          "data": {
            "text/plain": "<Figure size 576x396 with 1 Axes>",
            "image/png": "[encoded data removed]"
          },
          "metadata": {}
        }
      ],
      "execution_count": 214,
      "metadata": {
        "gather": {
          "logged": 1658891515012
        }
      }
    },
    {
      "cell_type": "code",
      "source": [
        "pk.wordcloud_plot(df.loc[df[\"target\"]==1][\"tweet_lemma_join\"])"
      ],
      "outputs": [
        {
          "output_type": "display_data",
          "data": {
            "text/plain": "<Figure size 576x396 with 1 Axes>",
            "image/png": "[encoded data removed]"
          },
          "metadata": {}
        }
      ],
      "execution_count": 215,
      "metadata": {
        "gather": {
          "logged": 1658891515365
        }
      }
    },
    {
      "cell_type": "markdown",
      "source": [
        "## Feature engineering"
      ],
      "metadata": {}
    },
    {
      "cell_type": "markdown",
      "source": [
        "Glove"
      ],
      "metadata": {}
    },
    {
      "cell_type": "code",
      "source": [
        "import numpy as np\n",
        "\n",
        "\n",
        "class Embeddings():\n",
        "    \"\"\"\n",
        "    A class to read the word embedding file and to create the word embedding matrix\n",
        "    \"\"\"\n",
        "\n",
        "    def __init__(self, path, vector_dimension):\n",
        "        self.path = path \n",
        "        self.vector_dimension = vector_dimension\n",
        "    \n",
        "    @staticmethod\n",
        "    def get_coefs(word, *arr): \n",
        "        return word, np.asarray(arr, dtype='float32')\n",
        "\n",
        "    def get_embedding_index(self):\n",
        "        embeddings_index = dict(self.get_coefs(*o.split(\" \")) for o in open(self.path, errors='ignore'))\n",
        "        return embeddings_index\n",
        "\n",
        "    def create_embedding_matrix(self, tokenizer, max_features):\n",
        "        \"\"\"\n",
        "        A method to create the embedding matrix\n",
        "        \"\"\"\n",
        "        model_embed = self.get_embedding_index()\n",
        "\n",
        "        embedding_matrix = np.zeros((max_features + 1, self.vector_dimension))\n",
        "        for word, index in tokenizer.word_index.items():\n",
        "            if index > max_features:\n",
        "                break\n",
        "            else:\n",
        "                try:\n",
        "                    embedding_matrix[index] = model_embed[word]\n",
        "                except:\n",
        "                    continue\n",
        "        return embedding_matrix"
      ],
      "outputs": [],
      "execution_count": 292,
      "metadata": {
        "gather": {
          "logged": 1658924661346
        }
      }
    },
    {
      "cell_type": "code",
      "source": [
        "df[\"target\"].isnull()"
      ],
      "outputs": [
        {
          "output_type": "execute_result",
          "execution_count": 324,
          "data": {
            "text/plain": "0        False\n1        False\n2        False\n3        False\n4        False\n         ...  \n15995    False\n15996    False\n15997    False\n15998    False\n15999    False\nName: target, Length: 16000, dtype: bool"
          },
          "metadata": {}
        }
      ],
      "execution_count": 324,
      "metadata": {
        "jupyter": {
          "source_hidden": false,
          "outputs_hidden": false
        },
        "nteract": {
          "transient": {
            "deleting": false
          }
        },
        "gather": {
          "logged": 1658925609847
        }
      }
    },
    {
      "cell_type": "code",
      "source": [
        "def ml_pipeline_divide_data(df):\n",
        "    data=df.copy()\n",
        "    data2=data.copy()  \n",
        "    X=data2[\"tweet_lemma_join\"].loc[data[\"target\"].isnull()==False]\n",
        "    del data2[\"target\"]\n",
        "    Y=data[\"target\"].loc[data[\"target\"].isnull()==False]\n",
        "    return np.array(X),Y"
      ],
      "outputs": [],
      "execution_count": 334,
      "metadata": {
        "gather": {
          "logged": 1658925683729
        }
      }
    },
    {
      "cell_type": "code",
      "source": [
        "X_train = df[\"tweet_lemma_join\"]# Texte "
      ],
      "outputs": [],
      "execution_count": 332,
      "metadata": {
        "jupyter": {
          "source_hidden": false,
          "outputs_hidden": false
        },
        "nteract": {
          "transient": {
            "deleting": false
          }
        },
        "gather": {
          "logged": 1658925657447
        }
      }
    },
    {
      "cell_type": "code",
      "source": [
        "X_train, Y_train = ml_pipeline_divide_data(df)\n"
      ],
      "outputs": [],
      "execution_count": 335,
      "metadata": {
        "gather": {
          "logged": 1658925686650
        }
      }
    },
    {
      "cell_type": "code",
      "source": [
        "X_train"
      ],
      "outputs": [
        {
          "output_type": "execute_result",
          "execution_count": 336,
          "data": {
            "text/plain": "array(['run wall hurt finger miss skin',\n       'maybe people new idea not time resource',\n       'kind not wait summer Cape Cod summer but miss Katie plante rayrachel much',\n       ...,\n       'relax home tonight Pretty sad friend use but go to head good niight',\n       'pizza cold Bear',\n       \"s absolutely amazing!you're dark horse!A lady many talents!excellent\"],\n      dtype=object)"
          },
          "metadata": {}
        }
      ],
      "execution_count": 336,
      "metadata": {
        "jupyter": {
          "source_hidden": false,
          "outputs_hidden": false
        },
        "nteract": {
          "transient": {
            "deleting": false
          }
        },
        "gather": {
          "logged": 1658925687443
        }
      }
    },
    {
      "cell_type": "code",
      "source": [
        "from keras.preprocessing.text import Tokenizer\n",
        "tokenizer = Tokenizer()\n",
        "tokenizer.fit_on_texts(X_train)"
      ],
      "outputs": [],
      "execution_count": 338,
      "metadata": {
        "gather": {
          "logged": 1658925701690
        }
      }
    },
    {
      "cell_type": "code",
      "source": [
        "embed_path = 'glove.6B.300d.txt' #glove.6B.300d\n",
        "embed_dim = 300"
      ],
      "outputs": [],
      "execution_count": 319,
      "metadata": {
        "gather": {
          "logged": 1658925531535
        }
      }
    },
    {
      "cell_type": "code",
      "source": [
        "len(tokenizer.word_counts)"
      ],
      "outputs": [
        {
          "output_type": "execute_result",
          "execution_count": 339,
          "data": {
            "text/plain": "16452"
          },
          "metadata": {}
        }
      ],
      "execution_count": 339,
      "metadata": {
        "jupyter": {
          "source_hidden": false,
          "outputs_hidden": false
        },
        "nteract": {
          "transient": {
            "deleting": false
          }
        },
        "gather": {
          "logged": 1658925703631
        }
      }
    },
    {
      "cell_type": "code",
      "source": [
        "# Creating the embedding matrix\n",
        "embedding = Embeddings(embed_path, embed_dim)\n",
        "embedding_matrix_glove = embedding.create_embedding_matrix(tokenizer, len(tokenizer.word_counts))"
      ],
      "outputs": [],
      "execution_count": 321,
      "metadata": {
        "gather": {
          "logged": 1658925567334
        }
      }
    },
    {
      "cell_type": "code",
      "source": [
        "embedding_matrix_glove"
      ],
      "outputs": [
        {
          "output_type": "execute_result",
          "execution_count": 322,
          "data": {
            "text/plain": "array([[ 0.        ,  0.        ,  0.        , ...,  0.        ,\n         0.        ,  0.        ],\n       [ 0.0083903 ,  0.28769001, -0.23466   , ..., -0.66409999,\n         0.10303   ,  0.1219    ],\n       [-0.0093601 ,  0.22789   , -0.10275   , ..., -0.51568002,\n        -0.035701  ,  0.0074737 ],\n       ...,\n       [ 0.        ,  0.        ,  0.        , ...,  0.        ,\n         0.        ,  0.        ],\n       [ 0.        ,  0.        ,  0.        , ...,  0.        ,\n         0.        ,  0.        ],\n       [-0.18291999,  0.66408002, -0.12192   , ..., -0.39861   ,\n        -0.15558   , -0.52869999]])"
          },
          "metadata": {}
        }
      ],
      "execution_count": 322,
      "metadata": {
        "jupyter": {
          "source_hidden": false,
          "outputs_hidden": false
        },
        "nteract": {
          "transient": {
            "deleting": false
          }
        },
        "gather": {
          "logged": 1658925567605
        }
      }
    },
    {
      "cell_type": "code",
      "source": [
        "embedding_matrix_glove.shape"
      ],
      "outputs": [
        {
          "output_type": "execute_result",
          "execution_count": 340,
          "data": {
            "text/plain": "(16453, 300)"
          },
          "metadata": {}
        }
      ],
      "execution_count": 340,
      "metadata": {
        "gather": {
          "logged": 1658925730511
        }
      }
    },
    {
      "cell_type": "markdown",
      "source": [
        "### Fasttext"
      ],
      "metadata": {}
    },
    {
      "cell_type": "code",
      "source": [
        "fasttext = api.load(\"fasttext-wiki-news-subwords-300\")\n",
        "embedding_dim = 300"
      ],
      "outputs": [],
      "execution_count": 341,
      "metadata": {
        "gather": {
          "logged": 1658925902723
        }
      }
    },
    {
      "cell_type": "code",
      "source": [
        "gc.collect()"
      ],
      "outputs": [
        {
          "output_type": "execute_result",
          "execution_count": 342,
          "data": {
            "text/plain": "35"
          },
          "metadata": {}
        }
      ],
      "execution_count": 342,
      "metadata": {
        "jupyter": {
          "source_hidden": false,
          "outputs_hidden": false
        },
        "nteract": {
          "transient": {
            "deleting": false
          }
        },
        "gather": {
          "logged": 1658925903739
        }
      }
    },
    {
      "cell_type": "code",
      "source": [
        "class Embeddings_Model():\n",
        "    \"\"\"\n",
        "    A class to read the word embedding model and to create the word embedding matrix\n",
        "    \"\"\"\n",
        "\n",
        "    def __init__(self, model, vector_dimension):\n",
        "        self.model = model \n",
        "        self.vector_dimension = vector_dimension\n",
        "\n",
        "    def get_embedding_index(self):\n",
        "        embeddings_index = self.model\n",
        "        return embeddings_index\n",
        "\n",
        "    def create_embedding_matrix(self, tokenizer, max_features):\n",
        "        \"\"\"\n",
        "        A method to create the embedding matrix\n",
        "        \"\"\"\n",
        "        model_embed = self.get_embedding_index()\n",
        "\n",
        "        embedding_matrix = np.zeros((max_features + 1, self.vector_dimension))\n",
        "        for word, index in tokenizer.word_index.items():\n",
        "            if index > max_features:\n",
        "                break\n",
        "            else:\n",
        "                try:\n",
        "                    embedding_matrix[index] = model_embed[word]\n",
        "                except:\n",
        "                    continue\n",
        "        return embedding_matrix"
      ],
      "outputs": [],
      "execution_count": 343,
      "metadata": {
        "gather": {
          "logged": 1658925904120
        }
      }
    },
    {
      "cell_type": "code",
      "source": [
        "# Creating the embedding matrix\n",
        "embedding = Embeddings_Model(fasttext, embedding_dim)\n",
        "embedding_matrix_fasttext = embedding.create_embedding_matrix(tokenizer, len(tokenizer.word_counts))"
      ],
      "outputs": [],
      "execution_count": 344,
      "metadata": {
        "gather": {
          "logged": 1658925904423
        }
      }
    },
    {
      "cell_type": "code",
      "source": [
        "N_total = embedding_matrix_fasttext.shape[0]"
      ],
      "outputs": [],
      "execution_count": 371,
      "metadata": {
        "gather": {
          "logged": 1658927550652
        }
      }
    },
    {
      "cell_type": "code",
      "source": [
        "N_total"
      ],
      "outputs": [
        {
          "output_type": "execute_result",
          "execution_count": 372,
          "data": {
            "text/plain": "16453"
          },
          "metadata": {}
        }
      ],
      "execution_count": 372,
      "metadata": {
        "jupyter": {
          "source_hidden": false,
          "outputs_hidden": false
        },
        "nteract": {
          "transient": {
            "deleting": false
          }
        },
        "gather": {
          "logged": 1658927551386
        }
      }
    },
    {
      "cell_type": "code",
      "source": [
        "embedding_matrix_fasttext.shape"
      ],
      "outputs": [
        {
          "output_type": "execute_result",
          "execution_count": 347,
          "data": {
            "text/plain": "(16453, 300)"
          },
          "metadata": {}
        }
      ],
      "execution_count": 347,
      "metadata": {
        "jupyter": {
          "source_hidden": false,
          "outputs_hidden": false
        },
        "nteract": {
          "transient": {
            "deleting": false
          }
        },
        "gather": {
          "logged": 1658925905292
        }
      }
    },
    {
      "cell_type": "markdown",
      "source": [
        "## Recherche d'un modèle avancé"
      ],
      "metadata": {}
    },
    {
      "cell_type": "code",
      "source": [
        "def ml_pipeline_divide_data(df):\n",
        "    data=df.copy()\n",
        "    data2=data.copy()  \n",
        "    X=data2[\"tweet_lemma_join\"].loc[pd.isna(data[\"target\"])==False]\n",
        "    del data2[\"target\"]\n",
        "    Y=data[\"target\"].loc[pd.isna(data[\"target\"])==False]\n",
        "    return X,Y\n",
        "\n",
        "from keras_preprocessing.sequence import pad_sequences\n",
        "#from keras.preprocessing.sequence import pad_sequences\n",
        "\n",
        "class TextToTensor():\n",
        "\n",
        "    def __init__(self, tokenizer, max_len):\n",
        "        self.tokenizer = tokenizer\n",
        "        self.max_len = max_len\n",
        "\n",
        "    def string_to_tensor(self, string_list: list) -> list:\n",
        "        \"\"\"\n",
        "        A method to convert a string list to a tensor for a deep learning model\n",
        "        \"\"\"    \n",
        "        string_list = self.tokenizer.texts_to_sequences(string_list)\n",
        "        string_list = pad_sequences(string_list, maxlen=self.max_len)\n",
        "        \n",
        "        return string_list\n",
        "\n",
        "def ml_step1_ech(df):\n",
        "        X, Y = ml_pipeline_divide_data(df)\n",
        "        X_train, X_test, y_train, y_test = pk_multi_sup.pipelineModel_TrainingSet(X, Y, 0, 0.3)\n",
        "        return X_train, X_test, y_train, y_test\n",
        "\n",
        "def ml_step2_ech(X_train, X_test, y_train, y_test):\n",
        "    max_len = np.max([len(text) for text in X_train])\n",
        "    TextToTensor_instance = TextToTensor(\n",
        "            tokenizer=tokenizer,\n",
        "            max_len=max_len\n",
        "            )\n",
        "    X_train = TextToTensor_instance.string_to_tensor(X_train)\n",
        "    # Creating the padded input for the deep learning model\n",
        "    # X_train = ml_transform(X_train)\n",
        "    X_test = TextToTensor_instance.string_to_tensor(X_test)\n",
        "    # X_test = TextToTensor_instance.string_to_tensor(X_test)\n",
        "    return X_train, X_test, np.array(y_train), np.array(y_test)\n",
        "    \n",
        "def ml_ech(df):\n",
        "    X_train, X_test, y_train, y_test = ml_step1_ech(df)\n",
        "    X_train, X_test, y_train, y_test = ml_step2_ech(X_train, X_test, y_train, y_test)\n",
        "    return X_train, X_test, y_train, y_test\n"
      ],
      "outputs": [],
      "execution_count": 348,
      "metadata": {
        "gather": {
          "logged": 1658925905555
        }
      }
    },
    {
      "cell_type": "code",
      "source": [
        "X_train, X_test, y_train, y_test = ml_ech(df)"
      ],
      "outputs": [],
      "execution_count": 349,
      "metadata": {
        "gather": {
          "logged": 1658925905804
        }
      }
    },
    {
      "cell_type": "code",
      "source": [
        "X_train_ech, X_test_ech, y_train_ech, y_test_ech = pk_multi_sup.pipelineModel_TrainingSet(X_train, y_train, 0, 0.3)"
      ],
      "outputs": [],
      "execution_count": 350,
      "metadata": {
        "gather": {
          "logged": 1658925906078
        }
      }
    },
    {
      "cell_type": "code",
      "source": [
        "def graph_history_train(history):\n",
        "    loss_curve = history.history[\"loss\"]\n",
        "    acc_curve = history.history[\"auc\"]\n",
        "\n",
        "    loss_val_curve = history.history[\"val_loss\"]\n",
        "    acc_val_curve = history.history[\"val_auc\"]\n",
        "\n",
        "    plt.plot(loss_curve, label=\"Train\")\n",
        "    plt.plot(loss_val_curve, label=\"Val\")\n",
        "    plt.legend(loc='upper left')\n",
        "    plt.title(\"Loss\")\n",
        "    plt.show()\n",
        "\n",
        "    plt.plot(acc_curve, label=\"Train\")\n",
        "    plt.plot(acc_val_curve, label=\"Val\")\n",
        "    plt.legend(loc='upper left')\n",
        "    plt.title(\"AUC\")\n",
        "    plt.show()"
      ],
      "outputs": [],
      "execution_count": 351,
      "metadata": {
        "gather": {
          "logged": 1658925906308
        }
      }
    },
    {
      "cell_type": "code",
      "source": [
        "####score pour fonction metier\n",
        "from sklearn import metrics\n",
        "\n",
        "def fmetric_metier(y_true, y_pred):\n",
        "    CM = metrics.confusion_matrix(y_true, y_pred)\n",
        "\n",
        "    TN = CM[0][0]\n",
        "    FN = CM[1][0]\n",
        "    TP = CM[1][1]\n",
        "    FP = CM[0][1]\n",
        "    metier = (FN*0.9+FP*0.1)/(FN+FP+TN+TP)\n",
        "    \n",
        "    print('FULL Métrique Métier : ', metier)\n",
        "    return metier\n",
        "\n",
        "metric_history = []\n",
        "best_metric_history_n = []\n",
        "\n",
        "@contextmanager\n",
        "def timer(title):\n",
        "    t0 = time.time()\n",
        "    yield\n",
        "    print(\"{} - done in {:.0f}s\".format(title, time.time() - t0))\n",
        "\n",
        "def plot_roc_curve(fper, tper):\n",
        "    plt.plot(fper, tper, color='red', label='ROC')\n",
        "    plt.plot([0, 1], [0, 1], color='blue', linestyle='--')\n",
        "    plt.xlabel('Taux de faux positifs')\n",
        "    plt.ylabel('Taux de vrais positifs')\n",
        "    plt.title('Courbe Roc')\n",
        "    plt.legend()\n",
        "    plt.show()\n",
        "\n",
        "\n",
        "def pipeline_training_metrics(preds, y_test):\n",
        "    # On créé un vecteur de prédiction à partir du vecteur de probabilités\n",
        "    y_pred = np.where(preds > 0.5, 1, 0) \n",
        "    #y_pred = preds.argmax(axis=1)\n",
        "    false_positive_rate, true_positive_rate, thresholds = metrics.roc_curve(y_test, y_pred)\n",
        "    roc_auc = metrics.auc(false_positive_rate, true_positive_rate)\n",
        "    print(roc_auc)\n",
        "    #print(\"false positive rate : \", false_positive_rate)\n",
        "    #print(\"true positive rate : \", true_positive_rate)\n",
        "    x_rate = false_positive_rate\n",
        "    y_rate = true_positive_rate \n",
        "\n",
        "    # This is the ROC curve\n",
        "    plot_roc_curve(x_rate,y_rate)\n",
        "    \n",
        "    CM = metrics.confusion_matrix(y_test, y_pred)\n",
        "\n",
        "    TN = CM[0][0]\n",
        "    FN = CM[1][0]\n",
        "    TP = CM[1][1]\n",
        "    FP = CM[0][1]\n",
        "    metier = (FN*0.9+FP*0.1)/(FN+FP+TN+TP)\n",
        "    \n",
        "    print('FULL Métrique Métier : ', metier)\n",
        "\n",
        "    print('Mean Absolute Error:', metrics.mean_absolute_error(y_test, y_pred))\n",
        "    print('Mean Squared Error:', metrics.mean_squared_error(y_test, y_pred))\n",
        "    print('Root Mean Squared Error:', np.sqrt(metrics.mean_squared_error(y_test, y_pred)))\n",
        "    \n",
        "    #Matrice de confusion\n",
        "    conf = metrics.confusion_matrix(y_test, y_pred)\n",
        "    conf\n",
        "    sns.heatmap(conf, square=True, annot=True, cbar=False)\n",
        "            #, xticklabels=list(iris.target_names)\n",
        "            #, yticklabels=list(iris.target_names))\n",
        "    plt.xlabel('valeurs prédites')\n",
        "    plt.ylabel('valeurs réelles')\n",
        "    plt.title('Matrice de confusion %')\n",
        "    plt.show()\n",
        "    \n",
        "    sns.heatmap(conf/np.sum(conf), annot=True, \n",
        "            fmt='.2%', cmap='Blues')\n",
        "    plt.xlabel('valeurs prédites')\n",
        "    plt.ylabel('valeurs réelles')\n",
        "    plt.title('Matrice de confusion %')\n",
        "    plt.show()\n",
        "    \n",
        "    print(\"\\nSur le jeu de test auc : {:.3f}\".format(metrics.roc_auc_score(y_test, y_pred)))\n",
        "    print(\"\\nSur le jeu de test f1_score : {:.3f}\".format(metrics.f1_score(y_test, y_pred)))\n",
        "    print(\"\\nSur le jeu de test precision : {:.3f}\".format(metrics.precision_score(y_test, y_pred)))\n",
        "    print(\"\\nSur le jeu de test recall : {:.3f}\".format(metrics.recall_score(y_test, y_pred)))\n",
        "    #\n"
      ],
      "outputs": [],
      "execution_count": 352,
      "metadata": {
        "gather": {
          "logged": 1658925906576
        }
      }
    },
    {
      "cell_type": "markdown",
      "source": [
        "Pipeline pour tester différentes méthodes"
      ],
      "metadata": {}
    },
    {
      "cell_type": "code",
      "source": [
        "from keras_tuner import HyperModel, tuners, Objective\n",
        "from tensorflow.keras.models import Sequential\n",
        "from tensorflow.keras.layers import Dense, Activation, Dropout\n",
        "from tensorflow.keras.optimizers import Adam\n",
        "import os\n",
        "import tensorflow as tf\n",
        "from transformers import BertTokenizer, TFBertForSequenceClassification\n",
        "import pickle"
      ],
      "outputs": [],
      "execution_count": 353,
      "metadata": {
        "gather": {
          "logged": 1658925906888
        }
      }
    },
    {
      "cell_type": "code",
      "source": [
        "X_train"
      ],
      "outputs": [
        {
          "output_type": "execute_result",
          "execution_count": 354,
          "data": {
            "text/plain": "array([[    0,     0,     0, ...,   412,  2342,  2081],\n       [    0,     0,     0, ...,     5,     2,     8],\n       [    0,     0,     0, ...,     0,   869, 12929],\n       ...,\n       [    0,     0,     0, ...,    30,     1,     8],\n       [    0,     0,     0, ...,     0,     5,    51],\n       [    0,     0,     0, ...,     7,    15,   612]], dtype=int32)"
          },
          "metadata": {}
        }
      ],
      "execution_count": 354,
      "metadata": {
        "gather": {
          "logged": 1658925907171
        }
      }
    },
    {
      "cell_type": "code",
      "source": [
        "#prepare data bert\n",
        "pickle_inp_path='bert_inp.pkl'\n",
        "pickle_mask_path='bert_mask.pkl'\n",
        "pickle_label_path='bert_label.pkl'\n",
        "\n",
        "def prepare_data_bert():\n",
        "    bert_tokenizer = BertTokenizer.from_pretrained(\"bert-base-uncased\")\n",
        "    sentences=df['tweet_lemma_join']\n",
        "    labels=df[\"target\"]\n",
        "    input_ids=[]\n",
        "    attention_masks=[]\n",
        "\n",
        "    for sent in sentences:\n",
        "        bert_inp=bert_tokenizer.encode_plus(sent,add_special_tokens = True,max_length =64,pad_to_max_length = True,return_attention_mask = True)\n",
        "        input_ids.append(bert_inp['input_ids'])\n",
        "        attention_masks.append(bert_inp['attention_mask'])\n",
        "\n",
        "    input_ids=np.asarray(input_ids)\n",
        "    attention_masks=np.array(attention_masks)\n",
        "    labels=np.array(labels)\n",
        "    pickle.dump((input_ids),open(pickle_inp_path,'wb'))\n",
        "    pickle.dump((attention_masks),open(pickle_mask_path,'wb'))\n",
        "    pickle.dump((labels),open(pickle_label_path,'wb'))\n",
        "    input_ids=pickle.load(open(pickle_inp_path, 'rb'))\n",
        "    attention_masks=pickle.load(open(pickle_mask_path, 'rb'))\n",
        "    labels=pickle.load(open(pickle_label_path, 'rb'))\n",
        "    return input_ids, attention_masks, labels"
      ],
      "outputs": [],
      "execution_count": 355,
      "metadata": {
        "gather": {
          "logged": 1658925907408
        }
      }
    },
    {
      "cell_type": "code",
      "source": [
        "input_ids, attention_masks, labels = prepare_data_bert()"
      ],
      "outputs": [
        {
          "output_type": "stream",
          "name": "stderr",
          "text": "Truncation was not explicitly activated but `max_length` is provided a specific value, please use `truncation=True` to explicitly truncate examples to max length. Defaulting to 'longest_first' truncation strategy. If you encode pairs of sequences (GLUE-style) with the tokenizer you can select this strategy more precisely by providing a specific strategy to `truncation`.\n/anaconda/envs/azureml_py38/lib/python3.8/site-packages/transformers/tokenization_utils_base.py:2073: FutureWarning:\n\nThe `pad_to_max_length` argument is deprecated and will be removed in a future version, use `padding=True` or `padding='longest'` to pad to the longest sequence in the batch, or use `padding='max_length'` to pad to a max length. In this case, you can give a specific length with `max_length` (e.g. `max_length=45`) or leave max_length to None to pad to the maximal input size of the model (e.g. 512 for Bert).\n\n"
        }
      ],
      "execution_count": 356,
      "metadata": {
        "gather": {
          "logged": 1658925911149
        }
      }
    },
    {
      "cell_type": "code",
      "source": [
        "input_ids.shape, attention_masks.shape, labels.shape"
      ],
      "outputs": [
        {
          "output_type": "execute_result",
          "execution_count": 357,
          "data": {
            "text/plain": "((16000, 64), (16000, 64), (16000,))"
          },
          "metadata": {}
        }
      ],
      "execution_count": 357,
      "metadata": {
        "gather": {
          "logged": 1658925911426
        }
      }
    },
    {
      "cell_type": "code",
      "source": [
        "import os\n",
        "import re\n",
        "import json\n",
        "import string\n",
        "import numpy as np\n",
        "import tensorflow as tf\n",
        "from tensorflow import keras\n",
        "from tensorflow.keras import layers\n",
        "from tokenizers import BertWordPieceTokenizer\n",
        "from transformers import BertTokenizer, TFBertModel, BertConfig\n",
        "\n",
        "max_len = 64\n",
        "configuration = BertConfig()  # default parameters and configuration for BERT"
      ],
      "outputs": [],
      "execution_count": 358,
      "metadata": {
        "gather": {
          "logged": 1658925911651
        }
      }
    },
    {
      "cell_type": "code",
      "source": [
        "input_ids, attention_masks, labels = prepare_data_bert()\n",
        "train_inp,val_inp,train_label,val_label,train_mask,val_mask=pk_multi.train_test_split(input_ids,labels,attention_masks,test_size=0.3)\n",
        "        # Performs the hyperparameter tuning"
      ],
      "outputs": [
        {
          "output_type": "stream",
          "name": "stderr",
          "text": "Truncation was not explicitly activated but `max_length` is provided a specific value, please use `truncation=True` to explicitly truncate examples to max length. Defaulting to 'longest_first' truncation strategy. If you encode pairs of sequences (GLUE-style) with the tokenizer you can select this strategy more precisely by providing a specific strategy to `truncation`.\n"
        }
      ],
      "execution_count": 359,
      "metadata": {
        "gather": {
          "logged": 1658925917798
        }
      }
    },
    {
      "cell_type": "code",
      "source": [
        "train_inp.shape, train_label.shape, train_mask.shape"
      ],
      "outputs": [
        {
          "output_type": "execute_result",
          "execution_count": 360,
          "data": {
            "text/plain": "((11200, 64), (11200,), (11200, 64))"
          },
          "metadata": {}
        }
      ],
      "execution_count": 360,
      "metadata": {
        "gather": {
          "logged": 1658925918083
        }
      }
    },
    {
      "cell_type": "code",
      "source": [
        "def create_model():\n",
        "    ## BERT encoder\n",
        "    encoder = TFBertForSequenceClassification.from_pretrained(\"bert-base-uncased\")\n",
        "\n",
        "    ## QA Model\n",
        "    input_ids = layers.Input(shape=(max_len,), dtype=tf.int32)\n",
        "    #token_type_ids = layers.Input(shape=(max_len,), dtype=tf.int32)\n",
        "    attention_mask = layers.Input(shape=(max_len,), dtype=tf.int32)\n",
        "    embedding = encoder(\n",
        "        input_ids,  attention_mask=attention_mask\n",
        "    )[0]\n",
        "#token_type_ids=token_type_ids,\n",
        "\n",
        "    start_logits = layers.Dense(units=hp.Int(\n",
        "                        'units',\n",
        "                        min_value=32,\n",
        "                        max_value=512,\n",
        "                        step=32,\n",
        "                        default=32\n",
        "                    ),\n",
        "                    activation=hp.Choice(\n",
        "                        'dense_activation',\n",
        "                        values=['relu', 'tanh', 'sigmoid'],\n",
        "                        default='tanh'\n",
        "                    ))(embedding)\n",
        "    # start_logits = layers.Flatten()(start_logits)\n",
        "    start_logi = layers.Flatten()(start_logits)\n",
        "    # end_logits = layers.Dense(1, name=\"end_logit\", use_bias=False)(embedding)\n",
        "    # end_logits = layers.Flatten()(end_logits)\n",
        "\n",
        "    start_probs = layers.Dense(1, keras.activations.sigmoid)(start_logi)\n",
        "    # end_probs = layers.Activation(keras.activations.softmax)(end_logits)\n",
        "    #end_logits = layers.Flatten()(start_probs)\n",
        "    model = keras.Model(\n",
        "        inputs=[input_ids, attention_mask],\n",
        "        outputs=start_probs\n",
        "    )\n",
        "    #loss = keras.losses.SparseCategoricalCrossentropy(from_logits=False)\n",
        "    #optimizer = keras.optimizers.Adam(lr=5e-5)\n",
        "    #model.compile(optimizer=optimizer, loss=[loss, loss])\n",
        "    return model"
      ],
      "outputs": [],
      "execution_count": null,
      "metadata": {
        "gather": {
          "logged": 1658935766459
        }
      }
    },
    {
      "cell_type": "code",
      "source": [
        "m = create_model()"
      ],
      "outputs": [
        {
          "output_type": "stream",
          "name": "stdout",
          "text": "WARNING:tensorflow:The parameters `output_attentions`, `output_hidden_states` and `use_cache` cannot be updated when calling a model.They have to be set to True/False in the config object (i.e.: `config=XConfig.from_pretrained('name', output_attentions=True)`).\nWARNING:tensorflow:The parameter `return_dict` cannot be set in graph mode and will always be set to `True`.\nWARNING:tensorflow:The parameters `output_attentions`, `output_hidden_states` and `use_cache` cannot be updated when calling a model.They have to be set to True/False in the config object (i.e.: `config=XConfig.from_pretrained('name', output_attentions=True)`).\nWARNING:tensorflow:The parameter `return_dict` cannot be set in graph mode and will always be set to `True`.\nWARNING:tensorflow:The parameters `output_attentions`, `output_hidden_states` and `use_cache` cannot be updated when calling a model.They have to be set to True/False in the config object (i.e.: `config=XConfig.from_pretrained('name', output_attentions=True)`).\nWARNING:tensorflow:The parameter `return_dict` cannot be set in graph mode and will always be set to `True`.\n"
        }
      ],
      "execution_count": 362,
      "metadata": {
        "gather": {
          "logged": 1658925921852
        }
      }
    },
    {
      "cell_type": "code",
      "source": [
        "class BertHyperModel(HyperModel):\r\n",
        "    def __init__(self, num_classes, type_model):\r\n",
        "        self.num_classes = num_classes\r\n",
        "        self.type_model = type_model\r\n",
        "    \r\n",
        "    def build(self, hp):\r\n",
        "        gc.collect()\r\n",
        "        type_model =self.type_model\r\n",
        "        # model simple + bilstm\r\n",
        "        model = create_model()\r\n",
        "        model.compile(\r\n",
        "            optimizer=tf.keras.optimizers.Adam(\r\n",
        "                hp.Float(\r\n",
        "                    'learning_rate',\r\n",
        "                    min_value=1e-4,\r\n",
        "                    max_value=1e-2,\r\n",
        "                    default=1e-3\r\n",
        "                )\r\n",
        "            ),\r\n",
        "            loss=tf.keras.losses.BinaryCrossentropy(from_logits=True),\r\n",
        "            metrics=['AUC']\r\n",
        "        )\r\n",
        "        #model.summary()\r\n",
        "        return model\r\n",
        "\r\n",
        "#hypermodel = RNNHyperModel(num_classes=2)"
      ],
      "outputs": [],
      "execution_count": 363,
      "metadata": {
        "jupyter": {
          "source_hidden": false,
          "outputs_hidden": false
        },
        "nteract": {
          "transient": {
            "deleting": false
          }
        },
        "gather": {
          "logged": 1658925922070
        }
      }
    },
    {
      "cell_type": "code",
      "source": [
        "class RNNHyperModel(HyperModel):\r\n",
        "    def __init__(self, num_classes, type_model, bilstm, dense2):\r\n",
        "        self.num_classes = num_classes\r\n",
        "        self.type_model = type_model\r\n",
        "        self.bilstm = bilstm\r\n",
        "        self.dense2 = dense2\r\n",
        "    \r\n",
        "    def build(self, hp):\r\n",
        "        gc.collect()\r\n",
        "        type_model = self.type_model\r\n",
        "        bilstm = self.bilstm\r\n",
        "        dense2 = self.dense2\r\n",
        "        model = tf.keras.Sequential()\r\n",
        "        if \"_embed\" in type_model:\r\n",
        "            if hp.Choice('embedding_choice_1', ['glove', 'fasttext']) == 'fasttext':\r\n",
        "                print(\"---------------fasttext\")\r\n",
        "                model.add(\r\n",
        "                    Embedding( \r\n",
        "                                input_dim=N_total, \r\n",
        "                                output_dim=300, \r\n",
        "                                input_length=202, \r\n",
        "                                weights=[embedding_matrix_fasttext],\r\n",
        "                                trainable = False,\r\n",
        "                                mask_zero= True)\r\n",
        "                        )\r\n",
        "            else:\r\n",
        "                print(\"---------------glove\")\r\n",
        "                model.add(\r\n",
        "                    Embedding( \r\n",
        "                                input_dim=N_total, \r\n",
        "                                output_dim=300, \r\n",
        "                                input_length=202, \r\n",
        "                                weights= [embedding_matrix_glove],\r\n",
        "                                trainable = False,\r\n",
        "                                mask_zero= True)\r\n",
        "                        )\r\n",
        "        else:\r\n",
        "            print(\"---------------sans embed\")\r\n",
        "            model.add(\r\n",
        "                Embedding( \r\n",
        "                            input_dim=N_total, \r\n",
        "                            output_dim=300, \r\n",
        "                            input_length=202, \r\n",
        "                            trainable = True,\r\n",
        "                            mask_zero= True)\r\n",
        "                    )\r\n",
        "        ##BILSTM\r\n",
        "        if bilstm == 1:\r\n",
        "            print(\"---------------bilstl\")\r\n",
        "            model.add(Bidirectional(LSTM(64, return_sequences=True, input_shape=(None, 1))))\r\n",
        "\r\n",
        "            if hp.Choice(\"dropout_0\", [\"1\", \"2\"]) == 2:\r\n",
        "                Dropout(rate=hp.Float(\r\n",
        "                        'dropout_0',\r\n",
        "                        min_value=0.0,\r\n",
        "                        max_value=0.5,\r\n",
        "                        default=0.2,\r\n",
        "                        step=0.05,\r\n",
        "                    ))\r\n",
        "            if hp.Choice(\"bilstm_1\", [\"bilstm\", \"ssbilstm\"]) == \"bilstm\":\r\n",
        "                model.add(Bidirectional(LSTM(32)))\r\n",
        "        else:\r\n",
        "            print(\"---------------sans bilstm\")\r\n",
        "        model.add(\r\n",
        "                Dense(\r\n",
        "                    units=hp.Int(\r\n",
        "                        'units',\r\n",
        "                        min_value=32,\r\n",
        "                        max_value=512,\r\n",
        "                        step=32,\r\n",
        "                        default=32\r\n",
        "                    ),\r\n",
        "                    activation=hp.Choice(\r\n",
        "                        'dense_activation',\r\n",
        "                        values=['relu', 'tanh', 'sigmoid'],\r\n",
        "                        default='tanh'\r\n",
        "                    )\r\n",
        "                )\r\n",
        "            )\r\n",
        "        model.add(\r\n",
        "                Dropout(rate=hp.Float(\r\n",
        "                    'dropout_1',\r\n",
        "                    min_value=0.0,\r\n",
        "                    max_value=0.5,\r\n",
        "                    default=0.2,\r\n",
        "                    step=0.05,\r\n",
        "                ))\r\n",
        "            )\r\n",
        "        model.add(Flatten())\r\n",
        "        if dense2 == 1:\r\n",
        "            print(\"--------add couche dense 2-----------\")\r\n",
        "            model.add(\r\n",
        "                Dense(\r\n",
        "                    units=hp.Int(\r\n",
        "                        'units',\r\n",
        "                        min_value=32,\r\n",
        "                        max_value=512,\r\n",
        "                        step=32,\r\n",
        "                        default=128\r\n",
        "                    ),\r\n",
        "                    activation=hp.Choice(\r\n",
        "                        'dense_activation',\r\n",
        "                        values=['relu', 'tanh', 'sigmoid'],\r\n",
        "                        default='tanh'\r\n",
        "                    )\r\n",
        "                )\r\n",
        "            )\r\n",
        "            model.add(\r\n",
        "                Dropout(\r\n",
        "                    rate=hp.Float(\r\n",
        "                        'dropout_2',\r\n",
        "                        min_value=0.0,\r\n",
        "                        max_value=0.5,\r\n",
        "                        default=0.2,\r\n",
        "                        step=0.05\r\n",
        "                    )\r\n",
        "                )\r\n",
        "            )\r\n",
        "            \r\n",
        "        model.add(Dense(1, activation='sigmoid'))\r\n",
        "        model.compile(\r\n",
        "            optimizer=tf.keras.optimizers.Adam(\r\n",
        "                hp.Float(\r\n",
        "                    'learning_rate',\r\n",
        "                    min_value=1e-4,\r\n",
        "                    max_value=1e-2,\r\n",
        "                    default=1e-3\r\n",
        "                )\r\n",
        "            ),\r\n",
        "            loss='binary_crossentropy',\r\n",
        "            metrics=['AUC']\r\n",
        "        )\r\n",
        "\r\n",
        "        #model.summary()\r\n",
        "        return model\r\n",
        "\r\n",
        "#hypermodel = RNNHyperModel(num_classes=2)"
      ],
      "outputs": [],
      "execution_count": 364,
      "metadata": {
        "jupyter": {
          "source_hidden": false,
          "outputs_hidden": false
        },
        "nteract": {
          "transient": {
            "deleting": false
          }
        },
        "gather": {
          "logged": 1658925922308
        }
      }
    },
    {
      "cell_type": "code",
      "source": [
        "gc.collect()"
      ],
      "outputs": [
        {
          "output_type": "execute_result",
          "execution_count": 365,
          "data": {
            "text/plain": "34191"
          },
          "metadata": {}
        }
      ],
      "execution_count": 365,
      "metadata": {
        "gather": {
          "logged": 1658925923001
        }
      }
    },
    {
      "cell_type": "code",
      "source": [
        "gc.collect()"
      ],
      "outputs": [
        {
          "output_type": "execute_result",
          "execution_count": 366,
          "data": {
            "text/plain": "21"
          },
          "metadata": {}
        }
      ],
      "execution_count": 366,
      "metadata": {
        "jupyter": {
          "source_hidden": false,
          "outputs_hidden": false
        },
        "nteract": {
          "transient": {
            "deleting": false
          }
        },
        "gather": {
          "logged": 1658925924021
        }
      }
    },
    {
      "cell_type": "code",
      "source": [
        "from keras_tuner import oracles\n",
        "from pathlib import Path\n",
        "from loguru import logger\n",
        "from sklearn import model_selection\n",
        "\n",
        "SEED = 1\n",
        "NUM_CLASSES = 1\n",
        "#INPUT_SHAPE = (32, 32, 3)\n",
        "\n",
        "N_EPOCH_SEARCH = 10\n",
        "HYPERBAND_MAX_EPOCHS = 10\n",
        "MAX_TRIALS = 5\n",
        "EXECUTION_PER_TRIAL = 5\n",
        "BAYESIAN_NUM_INITIAL_POINTS = 2\n",
        "\n",
        "def run_hyperparameter_tuning(x_test, x_train, y_test, y_train, type_model):\n",
        "    if type_model==\"simple_embed\":\n",
        "        hypermodel = RNNHyperModel(num_classes=NUM_CLASSES, type_model=type_model, bilstm=0, dense2=0)\n",
        "        output_dir = Path(\"./output/\")\n",
        "        tuners = define_tuners(\n",
        "            hypermodel, directory=output_dir, project_name=\"embed_tuning\"\n",
        "        )\n",
        "        print(\"---------type hypermodel :------\", type_model)\n",
        "        results = []\n",
        "        for tuner in tuners:\n",
        "            \n",
        "            type_info, elapsed_time, loss, auc = rnn_tuner_evaluation(\n",
        "                tuner, x_test, x_train, y_test, y_train, type_model\n",
        "            )\n",
        "            logger.info(\n",
        "                f\"Elapsed time = {elapsed_time:10.4f} s, auc = {auc}, loss = {loss}\"\n",
        "            )\n",
        "            results.append([type_info, elapsed_time, loss, auc])\n",
        "        logger.info(results)\n",
        "        print(results)\n",
        "        return results\n",
        "    elif type_model==\"simple_ssembed\":\n",
        "        hypermodel = RNNHyperModel(num_classes=NUM_CLASSES, type_model=type_model, bilstm=0, dense2=0)\n",
        "        output_dir = Path(\"./output/\")\n",
        "        tuners = define_tuners(\n",
        "            hypermodel, directory=output_dir, project_name=\"ssembed_tuning\"\n",
        "        )\n",
        "        print(\"---------type hypermodel :------\", type_model)\n",
        "        results = []\n",
        "        for tuner in tuners:\n",
        "            \n",
        "            type_info, elapsed_time, loss, auc = rnn_tuner_evaluation(\n",
        "                tuner, x_test, x_train, y_test, y_train, type_model\n",
        "            )\n",
        "            logger.info(\n",
        "                f\"Elapsed time = {elapsed_time:10.4f} s, auc = {auc}, loss = {loss}\"\n",
        "            )\n",
        "            results.append([type_info, elapsed_time, loss, auc])\n",
        "        logger.info(results)\n",
        "        print(results)\n",
        "        return results\n",
        "    elif type_model==\"simple_ssembed_dense2\":\n",
        "        hypermodel = RNNHyperModel(num_classes=NUM_CLASSES, type_model=type_model, bilstm=0, dense2=1)\n",
        "        output_dir = Path(\"./output/\")\n",
        "        tuners = define_tuners(\n",
        "            hypermodel, directory=output_dir, project_name=\"ssembed_dense2_tuning\"\n",
        "        )\n",
        "        print(\"---------type hypermodel :------\", type_model)\n",
        "        results = []\n",
        "        for tuner in tuners:\n",
        "            \n",
        "            type_info, elapsed_time, loss, auc = rnn_tuner_evaluation(\n",
        "                tuner, x_test, x_train, y_test, y_train, type_model\n",
        "            )\n",
        "            logger.info(\n",
        "                f\"Elapsed time = {elapsed_time:10.4f} s, auc = {auc}, loss = {loss}\"\n",
        "            )\n",
        "            results.append([type_info, elapsed_time, loss, auc])\n",
        "        logger.info(results)\n",
        "        print(results)\n",
        "        return results\n",
        "    elif type_model==\"bilstm_embed\":\n",
        "        hypermodel = RNNHyperModel(num_classes=NUM_CLASSES, type_model=type_model, bilstm=1, dense2=0)\n",
        "        output_dir = Path(\"./output/\")\n",
        "        tuners = define_tuners(\n",
        "            hypermodel, directory=output_dir, project_name=\"bilstm_embed_tuning\"\n",
        "        )\n",
        "        print(\"---------type hypermodel :------\", type_model)\n",
        "        results = []\n",
        "        for tuner in tuners:\n",
        "            \n",
        "            type_info, elapsed_time, loss, auc = rnn_tuner_evaluation(\n",
        "                tuner, x_test, x_train, y_test, y_train, type_model\n",
        "            )\n",
        "            logger.info(\n",
        "                f\"Elapsed time = {elapsed_time:10.4f} s, auc = {auc}, loss = {loss}\"\n",
        "            )\n",
        "            results.append([type_info, elapsed_time, loss, auc])\n",
        "        logger.info(results)\n",
        "        print(results)\n",
        "        return results\n",
        "    elif type_model==\"bilstm_ssembed\":\n",
        "        hypermodel = RNNHyperModel(num_classes=NUM_CLASSES, type_model=type_model, bilstm=1, dense2=0)\n",
        "        output_dir = Path(\"./output/\")\n",
        "        tuners = define_tuners(\n",
        "            hypermodel, directory=output_dir, project_name=\"bilstm_embed_tuning\"\n",
        "        )\n",
        "        print(\"---------type hypermodel :------\", type_model)\n",
        "        results = []\n",
        "        for tuner in tuners:\n",
        "            \n",
        "            type_info, elapsed_time, loss, auc = rnn_tuner_evaluation(\n",
        "                tuner, x_test, x_train, y_test, y_train, type_model\n",
        "            )\n",
        "            logger.info(\n",
        "                f\"Elapsed time = {elapsed_time:10.4f} s, auc = {auc}, loss = {loss}\"\n",
        "            )\n",
        "            results.append([type_info, elapsed_time, loss, auc])\n",
        "        logger.info(results)\n",
        "        print(results)\n",
        "        return results\n",
        "    elif type_model==\"bilstm_ssembed_dense2\":\n",
        "        hypermodel = RNNHyperModel(num_classes=NUM_CLASSES, type_model=type_model, bilstm=1, dense2=1)\n",
        "        output_dir = Path(\"./output/\")\n",
        "        tuners = define_tuners(\n",
        "            hypermodel, directory=output_dir, project_name=\"bilstm_ssembed_tuning\"\n",
        "        )\n",
        "        print(\"---------type hypermodel :------\", type_model)\n",
        "        results = []\n",
        "        for tuner in tuners:\n",
        "            \n",
        "            type_info, elapsed_time, loss, auc = rnn_tuner_evaluation(\n",
        "                tuner, x_test, x_train, y_test, y_train, type_model\n",
        "            )\n",
        "            logger.info(\n",
        "                f\"Elapsed time = {elapsed_time:10.4f} s, auc = {auc}, loss = {loss}\"\n",
        "            )\n",
        "            results.append([type_info, elapsed_time, loss, auc])\n",
        "        logger.info(results)\n",
        "        print(results)\n",
        "        return results\n",
        "\n",
        "    elif type_model==\"bert\":\n",
        "        hypermodel = BertHyperModel(num_classes=NUM_CLASSES, type_model=type_model)\n",
        "        output_dir = Path(\"./output/\")\n",
        "        tuners = define_tuners(\n",
        "            hypermodel, directory=output_dir, project_name=\"bert_tuning\"\n",
        "        )\n",
        "        print(\"---------type hypermodel :------\", type_model)\n",
        "        results = []\n",
        "        for tuner in tuners:\n",
        "            \n",
        "            type_info, elapsed_time, loss, auc = bert_tuner_evaluation(\n",
        "                tuner, x_test, x_train, y_test, y_train, type_model\n",
        "            )\n",
        "            logger.info(\n",
        "                f\"Elapsed time = {elapsed_time:10.4f} s, auc = {auc}, loss = {loss}\"\n",
        "            )\n",
        "            results.append([type_info, elapsed_time, loss, auc])\n",
        "        logger.info(results)\n",
        "        print(results)\n",
        "        return results\n",
        "    else:\n",
        "        print(\"error\")\n",
        "\n",
        "log_dir='tensorboard_data/tb_bert'\n",
        "model_save_path='./output/bert_model.h5'\n",
        "\n",
        "def bert_tuner_evaluation(tuner, x_test, x_train, y_test, y_train, type_model):\n",
        "    print(\"----------------------------evalution----------------------------\")\n",
        "    # Overview of the task\n",
        "    tuner.search_space_summary()\n",
        "    \n",
        "    print(\"bert------------\")\n",
        "    callbacks = [tf.keras.callbacks.ModelCheckpoint(filepath=model_save_path,save_weights_only=True,monitor='val_loss', mode='min',save_best_only=True),tf.keras.callbacks.TensorBoard(log_dir=log_dir)]\n",
        "    bert_tokenizer = BertTokenizer.from_pretrained(\"bert-base-uncased\")\n",
        "    input_ids, attention_masks, labels = prepare_data_bert()\n",
        "    train_inp,test_inp,train_label,test_label,train_mask,test_mask=pk_multi.train_test_split(input_ids,labels,attention_masks,test_size=0.3)\n",
        "    train_inp,val_inp,train_label,val_label,train_mask,val_mask=pk_multi.train_test_split(train_inp,train_label,train_mask,test_size=0.3)\n",
        "    # Performs the hyperparameter tuning\n",
        "    logger.info(\"Start hyperparameter tuning\")\n",
        "    search_start = time.time()\n",
        "    tuner.search([train_inp,train_mask],train_label,batch_size=200,epochs=N_EPOCH_SEARCH, validation_data=([val_inp,val_mask], val_label),callbacks=callbacks)\n",
        "    search_end = time.time()\n",
        "    elapsed_time = search_end - search_start\n",
        "\n",
        "    # Show a summary of the search\n",
        "    tuner.results_summary()\n",
        "\n",
        "    # Retrieve the best model.\n",
        "    best_model = tuner.get_best_models(num_models=1)[0]\n",
        "    input_ids, attention_masks, labels = prepare_data_bert()\n",
        "    # Evaluate the best model.\n",
        "    loss, auc = best_model.evaluate([test_inp, test_mask], test_label)\n",
        "    return \"bert\", elapsed_time, loss, auc\n",
        "    \n",
        "def rnn_tuner_evaluation(tuner, x_test, x_train, y_test, y_train, type_model):\n",
        "    print(\"---------simple--------\")\n",
        "    x_train_ech, x_test_ech, y_train_ech, y_test_ech = pk_multi_sup.pipelineModel_TrainingSet(x_train, y_train, 0, 0.3)\n",
        "    # Performs the hyperparameter tuning\n",
        "    logger.info(\"Start hyperparameter tuning\")\n",
        "    search_start = time.time()\n",
        "    tuner.search(x_train_ech, y_train_ech, batch_size=200, epochs=N_EPOCH_SEARCH, validation_data=(x_test_ech, y_test_ech))\n",
        "\n",
        "    #tuner.search(x_train_ech, y_train_ech, batch_size=113, epochs=N_EPOCH_SEARCH, validation_data=(x_test_ech, y_test_ech))\n",
        "    search_end = time.time()\n",
        "    elapsed_time = search_end - search_start\n",
        "\n",
        "    # Show a summary of the search\n",
        "    tuner.results_summary()\n",
        "\n",
        "    # Retrieve the best model.  \n",
        "    best_model = tuner.get_best_models(num_models=1)[0]\n",
        "\n",
        "    # Evaluate the best model.\n",
        "    loss, auc = best_model.evaluate(x_test, y_test)\n",
        "    #elapsed_time = time.time()\n",
        "    elapsed_time = search_end - search_start\n",
        "    return \"simple\",  elapsed_time, loss, auc\n",
        "\n",
        "\n",
        "\n",
        "def define_tuners(hypermodel, directory, project_name):\n",
        "    \n",
        "    random_tuner = tuners.RandomSearch(\n",
        "        hypermodel,\n",
        "        objective=Objective(\"auc\", direction=\"max\"),\n",
        "        seed=SEED,\n",
        "        max_trials=MAX_TRIALS,\n",
        "        executions_per_trial=EXECUTION_PER_TRIAL,\n",
        "        directory=f\"{directory}_random_search\",\n",
        "        project_name=project_name\n",
        "    )\n",
        "    \n",
        "    hyperband_tuner = tuners.Hyperband(\n",
        "        hypermodel,\n",
        "        max_epochs=HYPERBAND_MAX_EPOCHS,\n",
        "        objective=Objective(\"auc\", direction=\"max\"),\n",
        "        seed=SEED,\n",
        "        executions_per_trial=EXECUTION_PER_TRIAL,\n",
        "        directory=f\"{directory}_hyperband\",\n",
        "        project_name=project_name,\n",
        "    )\n",
        "    bayesian_tuner = tuners.BayesianOptimization(\n",
        "        hypermodel,\n",
        "        objective=Objective(\"auc\", direction=\"max\"),\n",
        "        seed=SEED,\n",
        "        num_initial_points=BAYESIAN_NUM_INITIAL_POINTS,\n",
        "        max_trials=MAX_TRIALS,\n",
        "        directory=f\"{directory}_bayesian\",\n",
        "        project_name=project_name\n",
        "    )\n",
        "    \"\"\"\n",
        "    tuner = tuners.SklearnTuner(\n",
        "        oracle=oracles.BayesianOptimizationOracle(\n",
        "            objective=Objective('score', 'max'),\n",
        "            max_trials=10),\n",
        "        hypermodel=hypermodel,\n",
        "        scoring=metrics.make_scorer(metrics.roc_auc_score),\n",
        "        cv=model_selection.StratifiedKFold(5),\n",
        "        directory=f\"{directory}_crossval_{int(time.time())}\",\n",
        "        project_name='my_project')\"\"\"\n",
        "    return [random_tuner, hyperband_tuner, bayesian_tuner]\n",
        "        \n"
      ],
      "outputs": [],
      "execution_count": 374,
      "metadata": {
        "gather": {
          "logged": 1658935768249
        }
      }
    },
    {
      "cell_type": "code",
      "source": [
        "results_all = run_hyperparameter_tuning(X_test, X_train, y_test, y_train, \"simple_embed\")"
      ],
      "outputs": [
        {
          "output_type": "stream",
          "name": "stdout",
          "text": "40/40 [==============================] - 4s 90ms/step - loss: 0.5751 - auc: 0.7915 - val_loss: 0.5802 - val_auc: 0.7802\nTrial 5 Complete [00h 00m 36s]\nauc: 0.7915407419204712\n\nBest auc So Far: 0.992452085018158\nTotal elapsed time: 00h 05m 59s\nINFO:tensorflow:Oracle triggered exit\nResults summary\nResults in output_bayesian/embed_tuning\nShowing 10 best trials\n<keras_tuner.engine.objective.Objective object at 0x7f33f99ffd90>\nTrial summary\nHyperparameters:\nembedding_choice_1: glove\nunits: 480\ndense_activation: relu\ndropout_1: 0.1\nlearning_rate: 0.00626672677940805\nScore: 0.992452085018158\nTrial summary\nHyperparameters:\nembedding_choice_1: glove\nunits: 192\ndense_activation: relu\ndropout_1: 0.25\nlearning_rate: 0.005756885687430145\nScore: 0.983870804309845\nTrial summary\nHyperparameters:\nembedding_choice_1: glove\nunits: 512\ndense_activation: relu\ndropout_1: 0.5\nlearning_rate: 0.0001\nScore: 0.8086717128753662\nTrial summary\nHyperparameters:\nembedding_choice_1: glove\nunits: 160\ndense_activation: relu\ndropout_1: 0.0\nlearning_rate: 0.0001\nScore: 0.7915407419204712\nTrial summary\nHyperparameters:\nembedding_choice_1: fasttext\nunits: 512\ndense_activation: sigmoid\ndropout_1: 0.0\nlearning_rate: 0.01\nScore: 0.6096796989440918\n---------------glove\n---------------sans bilstm\n150/150 [==============================] - 2s 8ms/step - loss: 1.1564 - auc: 0.7406\b\b\b\b\b\b\b\b\b\b\b\b\b\b\b\b\b\b\b\b\b\b\b\b\b\b\b\b\b\b\b\b\b\b\b\b\b\b\b\b\b\b\b\b\b\b\b\b\b\b\b\b\b\b\b\b\b\b\b\b\b\b\b\b\b\b\b\b\b\b\b\b\b\b\b\b\b\n[['simple', 0.000873565673828125, 1.3026083707809448, 0.7381425499916077], ['simple', 2749.6618597507477, 0.9780303835868835, 0.7520713210105896], ['simple', 359.83251190185547, 1.156402349472046, 0.7406108975410461]]\n"
        }
      ],
      "execution_count": 375,
      "metadata": {
        "gather": {
          "logged": 1658938897122
        }
      }
    },
    {
      "cell_type": "code",
      "source": [
        "results_all_bert = run_hyperparameter_tuning(X_test, X_train, y_test, y_train, \"bert\")"
      ],
      "outputs": [
        {
          "output_type": "stream",
          "name": "stdout",
          "text": "INFO:tensorflow:Reloading Oracle from existing project output_random_search/bert_tuning/oracle.json\nWARNING:tensorflow:Detecting that an object or model or tf.train.Checkpoint is being deleted with unrestored values. See the following logs for the specific values in question. To silence these warnings, use `status.expect_partial()`. See https://www.tensorflow.org/api_docs/python/tf/train/Checkpoint#restorefor details about the status object returned by the restore function.\nWARNING:tensorflow:Value in checkpoint could not be found in the restored object: (root).optimizer.iter\nWARNING:tensorflow:Value in checkpoint could not be found in the restored object: (root).optimizer.beta_1\nWARNING:tensorflow:Value in checkpoint could not be found in the restored object: (root).optimizer.beta_2\nWARNING:tensorflow:Value in checkpoint could not be found in the restored object: (root).optimizer.decay\nWARNING:tensorflow:Value in checkpoint could not be found in the restored object: (root).optimizer.learning_rate\nWARNING:tensorflow:The parameters `output_attentions`, `output_hidden_states` and `use_cache` cannot be updated when calling a model.They have to be set to True/False in the config object (i.e.: `config=XConfig.from_pretrained('name', output_attentions=True)`).\nWARNING:tensorflow:The parameter `return_dict` cannot be set in graph mode and will always be set to `True`.\nWARNING:tensorflow:The parameters `output_attentions`, `output_hidden_states` and `use_cache` cannot be updated when calling a model.They have to be set to True/False in the config object (i.e.: `config=XConfig.from_pretrained('name', output_attentions=True)`).\nWARNING:tensorflow:The parameter `return_dict` cannot be set in graph mode and will always be set to `True`.\nWARNING:tensorflow:The parameters `output_attentions`, `output_hidden_states` and `use_cache` cannot be updated when calling a model.They have to be set to True/False in the config object (i.e.: `config=XConfig.from_pretrained('name', output_attentions=True)`).\nWARNING:tensorflow:The parameter `return_dict` cannot be set in graph mode and will always be set to `True`.\n---------type hypermodel :------ bert\n----------------------------evalution----------------------------\nSearch space summary\nDefault search space size: 1\nlearning_rate (Float)\n{'default': 0.001, 'conditions': [], 'min_value': 0.0001, 'max_value': 0.01, 'step': None, 'sampling': None}\nbert------------\n\nSearch: Running Trial #1\n\nValue             |Best Value So Far |Hyperparameter\n0.0014302         |?                 |learning_rate\n\nWARNING:tensorflow:The parameters `output_attentions`, `output_hidden_states` and `use_cache` cannot be updated when calling a model.They have to be set to True/False in the config object (i.e.: `config=XConfig.from_pretrained('name', output_attentions=True)`).\nWARNING:tensorflow:The parameter `return_dict` cannot be set in graph mode and will always be set to `True`.\nEpoch 1/10\nWARNING:tensorflow:The parameters `output_attentions`, `output_hidden_states` and `use_cache` cannot be updated when calling a model.They have to be set to True/False in the config object (i.e.: `config=XConfig.from_pretrained('name', output_attentions=True)`).\nWARNING:tensorflow:The parameter `return_dict` cannot be set in graph mode and will always be set to `True`.\nWARNING:tensorflow:The parameters `output_attentions`, `output_hidden_states` and `use_cache` cannot be updated when calling a model.They have to be set to True/False in the config object (i.e.: `config=XConfig.from_pretrained('name', output_attentions=True)`).\nWARNING:tensorflow:The parameter `return_dict` cannot be set in graph mode and will always be set to `True`.\n40/40 [==============================] - ETA: 0s - loss: 0.7027 - auc: 0.5052 WARNING:tensorflow:The parameters `output_attentions`, `output_hidden_states` and `use_cache` cannot be updated when calling a model.They have to be set to True/False in the config object (i.e.: `config=XConfig.from_pretrained('name', output_attentions=True)`).\nWARNING:tensorflow:The parameter `return_dict` cannot be set in graph mode and will always be set to `True`.\n40/40 [==============================] - 1173s 29s/step - loss: 0.7027 - auc: 0.5052 - val_loss: 0.6950 - val_auc: 0.5000\nEpoch 2/10\n40/40 [==============================] - 1135s 28s/step - loss: 0.6965 - auc: 0.4926 - val_loss: 0.6957 - val_auc: 0.5000\b\b\b\b\b\b\b\b\b\b\b\b\b\b\b\b\b\b\b\b\b\b\b\b\b\b\b\b\b\b\b\b\b\b\b\b\b\b\b\nEpoch 3/10\n40/40 [==============================] - 1144s 29s/step - loss: 0.6948 - auc: 0.4896 - val_loss: 0.6952 - val_auc: 0.5000\b\b\b\b\b\b\b\b\b\b\b\b\b\b\b\b\b\b\b\b\b\b\b\b\b\b\b\b\b\b\b\b\b\b\b\b\b\b\b\nEpoch 4/10\n40/40 [==============================] - 1166s 29s/step - loss: 0.6954 - auc: 0.4990 - val_loss: 0.6931 - val_auc: 0.5000\b\b\b\b\b\b\b\b\b\b\b\b\b\b\b\b\b\b\b\b\b\b\b\b\b\b\b\b\b\b\b\b\b\b\b\b\b\b\b\nEpoch 5/10\n40/40 [==============================] - 1182s 30s/step - loss: 0.6958 - auc: 0.4966 - val_loss: 0.6932 - val_auc: 0.5000\b\b\b\b\b\b\b\b\b\b\b\b\b\b\b\b\b\b\b\b\b\b\b\b\b\b\b\b\b\b\b\b\b\b\b\b\b\b\b\nEpoch 6/10\n40/40 [==============================] - 1085s 27s/step - loss: 0.6935 - auc: 0.5066 - val_loss: 0.6985 - val_auc: 0.5000\b\b\b\b\b\b\b\b\b\b\b\b\b\b\b\b\b\b\b\b\b\b\b\b\b\b\b\b\b\b\b\b\b\b\b\b\b\b\b\nEpoch 7/10\n40/40 [==============================] - 1058s 27s/step - loss: 0.6944 - auc: 0.4869 - val_loss: 0.6950 - val_auc: 0.5000\b\b\b\b\b\b\b\b\b\b\b\b\b\b\b\b\b\b\b\b\b\b\b\b\b\b\b\b\b\b\b\b\b\b\b\b\b\b\b\nEpoch 8/10\n12/40 [========>.....................] - ETA: 11:36 - loss: 0.6933 - auc: 0.5203\b\b\b\b\b\b\b\b\b\b\b\b\b\b\b\b\b\b\b\b\b\b\b\b\b\b\b\b\b\b\b\b\b\b\b\b\b\b\b\b\b\b\b\b\b\b\b\b\b\b\b\b\b\b\b\b\b\b\b\b\b\b\b\b\b\b\b\b\b\b\b\b\b\b\b\b\b\b\b\b\r13/40 [========>.....................] - ETA: 11:09 - loss: 0.6933 - auc: 0.5185"
        },
        {
          "output_type": "stream",
          "name": "stderr",
          "text": "All model checkpoint layers were used when initializing TFBertForSequenceClassification.\n\nSome layers of TFBertForSequenceClassification were not initialized from the model checkpoint at bert-base-uncased and are newly initialized: ['classifier']\nYou should probably TRAIN this model on a down-stream task to be able to use it for predictions and inference.\nAll model checkpoint layers were used when initializing TFBertForSequenceClassification.\n\nSome layers of TFBertForSequenceClassification were not initialized from the model checkpoint at bert-base-uncased and are newly initialized: ['classifier']\nYou should probably TRAIN this model on a down-stream task to be able to use it for predictions and inference.\nAll model checkpoint layers were used when initializing TFBertForSequenceClassification.\n\nSome layers of TFBertForSequenceClassification were not initialized from the model checkpoint at bert-base-uncased and are newly initialized: ['classifier']\nYou should probably TRAIN this model on a down-stream task to be able to use it for predictions and inference.\nTruncation was not explicitly activated but `max_length` is provided a specific value, please use `truncation=True` to explicitly truncate examples to max length. Defaulting to 'longest_first' truncation strategy. If you encode pairs of sequences (GLUE-style) with the tokenizer you can select this strategy more precisely by providing a specific strategy to `truncation`.\n/anaconda/envs/azureml_py38/lib/python3.8/site-packages/transformers/tokenization_utils_base.py:2073: FutureWarning:\n\nThe `pad_to_max_length` argument is deprecated and will be removed in a future version, use `padding=True` or `padding='longest'` to pad to the longest sequence in the batch, or use `padding='max_length'` to pad to a max length. In this case, you can give a specific length with `max_length` (e.g. `max_length=45`) or leave max_length to None to pad to the maximal input size of the model (e.g. 512 for Bert).\n\n2022-07-27 16:26:30.834 | INFO     | __main__:bert_tuner_evaluation:176 - Start hyperparameter tuning\nAll model checkpoint layers were used when initializing TFBertForSequenceClassification.\n\nSome layers of TFBertForSequenceClassification were not initialized from the model checkpoint at bert-base-uncased and are newly initialized: ['classifier']\nYou should probably TRAIN this model on a down-stream task to be able to use it for predictions and inference.\n/anaconda/envs/azureml_py38/lib/python3.8/site-packages/tensorflow/python/util/dispatch.py:1082: UserWarning:\n\n\"`binary_crossentropy` received `from_logits=True`, but the `output` argument was produced by a sigmoid or softmax activation and thus does not represent logits. Was this intended?\"\n\n"
        }
      ],
      "execution_count": 376,
      "metadata": {
        "gather": {
          "logged": 1658903847440
        }
      }
    },
    {
      "cell_type": "code",
      "source": [],
      "outputs": [],
      "execution_count": null,
      "metadata": {}
    }
  ],
  "metadata": {
    "interpreter": {
      "hash": "0f681b607d6245441407fad5111e7bbf40ae34c4d086033864a31dfcbc85c84d"
    },
    "kernelspec": {
      "name": "venv_007",
      "language": "python",
      "display_name": "venv_007"
    },
    "language_info": {
      "name": "python",
      "version": "3.8.5",
      "mimetype": "text/x-python",
      "codemirror_mode": {
        "name": "ipython",
        "version": 3
      },
      "pygments_lexer": "ipython3",
      "nbconvert_exporter": "python",
      "file_extension": ".py"
    },
    "orig_nbformat": 4,
    "kernel_info": {
      "name": "venv_007"
    },
    "nteract": {
      "version": "nteract-front-end@1.0.0"
    },
    "microsoft": {
      "host": {
        "AzureML": {
          "notebookHasBeenCompleted": true
        }
      }
    }
  },
  "nbformat": 4,
  "nbformat_minor": 2
}